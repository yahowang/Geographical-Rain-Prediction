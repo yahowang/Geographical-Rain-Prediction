{
 "cells": [
  {
   "cell_type": "code",
   "execution_count": 10,
   "metadata": {
    "collapsed": true
   },
   "outputs": [],
   "source": [
    "from sklearn.ensemble import GradientBoostingClassifier\n",
    "from sklearn import ensemble\n",
    "from sklearn.metrics import roc_auc_score\n",
    "import numpy as np\n",
    "import matplotlib.pyplot as plt\n",
    "from collections import defaultdict\n",
    "%matplotlib inline\n",
    "\n",
    "np.random.seed(0)\n",
    "import mltools as ml\n",
    "X = np.genfromtxt(\"data/X_train.txt\", delimiter = None)\n",
    "Y = np.genfromtxt(\"data/Y_train.txt\", delimiter = None)\n",
    "Xte = np.genfromtxt(\"data/X_test.txt\", delimiter = None)\n",
    "np.random.seed(0)\n",
    "\n",
    "\n",
    "\n",
    "X, Y = ml.shuffleData(X, Y)\n",
    "\n",
    "train_num = 190000\n",
    "\n",
    "Xtr = X[:train_num, :]\n",
    "Ytr = Y[:train_num]\n",
    "Xva = X[train_num: , :]\n",
    "Yva = Y[train_num:]"
   ]
  },
  {
   "cell_type": "code",
   "execution_count": 11,
   "metadata": {
    "collapsed": true
   },
   "outputs": [],
   "source": [
    "def calcError(Yvalidation_hat, Yvalidation):\n",
    "    err_count = 0.\n",
    "    for i in range(len(Yvalidation_hat)):\n",
    "        if Yvalidation_hat[i] != Yvalidation[i]:\n",
    "            err_count+=1\n",
    "    return err_count / len(Yvalidation_hat)\n",
    "\n",
    "def convert(regress_list):\n",
    "    result = []\n",
    "    for i in regress_list:\n",
    "        if i < 0.5:\n",
    "            result.append(0)\n",
    "        else:\n",
    "            result.append(1)\n",
    "    return result"
   ]
  },
  {
   "cell_type": "code",
   "execution_count": 12,
   "metadata": {},
   "outputs": [
    {
     "name": "stdout",
     "output_type": "stream",
     "text": [
      "0.920065703625\n"
     ]
    }
   ],
   "source": [
    "# for i in range(13, 18):\n",
    "#     for j in range(13, 18):\n",
    "params = {'n_estimators': 450, \n",
    "          'max_depth': 39, \n",
    "          'min_samples_split':2**9,\n",
    "          'learning_rate': 0.05}\n",
    "clf = ensemble.GradientBoostingRegressor(**params)\n",
    "\n",
    "clf.fit(X, Y)\n",
    "Yhatte = clf.predict(Xte)\n",
    "Yhatva = clf.predict(Xva)\n",
    "Yhattr = clf.predict(Xtr)\n",
    "\n",
    "eYhatva = convert(Yhatva)\n",
    "eYhattr = convert(Yhattr)\n",
    "\n",
    "print roc_auc_score(Yva, Yhatva)\n",
    "# print \"depth=\", i, \"max_leaf_node\", j, \"ValAUC=\", roc_auc_score(Yva, Yhatva), \"ValErr=\", calcError(eYhatva, Yva), \"TraErr=\", calcError(eYhattr, Ytr)\n"
   ]
  },
  {
   "cell_type": "code",
   "execution_count": 1,
   "metadata": {},
   "outputs": [
    {
     "ename": "NameError",
     "evalue": "name 'Yhatte' is not defined",
     "output_type": "error",
     "traceback": [
      "\u001b[0;31m---------------------------------------------------------------------------\u001b[0m",
      "\u001b[0;31mNameError\u001b[0m                                 Traceback (most recent call last)",
      "\u001b[0;32m<ipython-input-1-bfe627ea90ff>\u001b[0m in \u001b[0;36m<module>\u001b[0;34m()\u001b[0m\n\u001b[1;32m      1\u001b[0m \u001b[0mYhatte_trans\u001b[0m \u001b[0;34m=\u001b[0m \u001b[0;34m[\u001b[0m\u001b[0;34m]\u001b[0m\u001b[0;34m\u001b[0m\u001b[0m\n\u001b[1;32m      2\u001b[0m \u001b[0;34m\u001b[0m\u001b[0m\n\u001b[0;32m----> 3\u001b[0;31m \u001b[0;32mfor\u001b[0m \u001b[0mi\u001b[0m \u001b[0;32min\u001b[0m \u001b[0mYhatte\u001b[0m\u001b[0;34m:\u001b[0m\u001b[0;34m\u001b[0m\u001b[0m\n\u001b[0m\u001b[1;32m      4\u001b[0m     \u001b[0;32mif\u001b[0m \u001b[0mi\u001b[0m \u001b[0;34m<\u001b[0m \u001b[0;36m0\u001b[0m\u001b[0;34m:\u001b[0m\u001b[0;34m\u001b[0m\u001b[0m\n\u001b[1;32m      5\u001b[0m         \u001b[0mi\u001b[0m \u001b[0;34m=\u001b[0m \u001b[0;36m0\u001b[0m\u001b[0;34m\u001b[0m\u001b[0m\n",
      "\u001b[0;31mNameError\u001b[0m: name 'Yhatte' is not defined"
     ]
    }
   ],
   "source": [
    "Yhatte_trans = []\n",
    "\n",
    "for i in Yhatte:\n",
    "    if i < 0:\n",
    "        i = 0\n",
    "    elif i>1:\n",
    "        i = 1\n",
    "    Yhatte_trans.append(i)\n",
    "\n",
    "# print calcError(convert(Yhatte_trans), Yva)\n",
    "Yte = np.vstack((np.arange(Xte.shape[0]), Yhatte_trans)).T\n",
    "\n",
    "np.savetxt(\"Y_sumbit_newgb.txt\", Yte, \"%d, %.2f\", header = \"ID,Prob1\", comments = \"\", delimiter = \",\")"
   ]
  },
  {
   "cell_type": "code",
   "execution_count": null,
   "metadata": {
    "collapsed": true
   },
   "outputs": [],
   "source": [
    "0.764922188534"
   ]
  }
 ],
 "metadata": {
  "kernelspec": {
   "display_name": "Python 2",
   "language": "python",
   "name": "python2"
  },
  "language_info": {
   "codemirror_mode": {
    "name": "ipython",
    "version": 2
   },
   "file_extension": ".py",
   "mimetype": "text/x-python",
   "name": "python",
   "nbconvert_exporter": "python",
   "pygments_lexer": "ipython2",
   "version": "2.7.14"
  }
 },
 "nbformat": 4,
 "nbformat_minor": 2
}
