{
 "cells": [
  {
   "cell_type": "code",
   "execution_count": 2,
   "metadata": {
    "collapsed": true
   },
   "outputs": [],
   "source": [
    "# init\n",
    "from __future__ import division\n",
    "import numpy as np\n",
    "import matplotlib.pyplot as plt\n",
    "import mltools as ml\n",
    "from sklearn.metrics import roc_auc_score\n",
    "from sklearn.preprocessing import StandardScaler\n",
    "from sklearn.neural_network import MLPClassifier\n",
    "from sklearn.pipeline import Pipeline\n",
    "\n",
    "# load data\n",
    "X = np.genfromtxt('data/X_train.txt', delimiter=None)\n",
    "Y = np.genfromtxt('data/Y_train.txt', delimiter=None)\n",
    "Xte = np.genfromtxt('data/X_test.txt', delimiter=None)\n",
    "\n",
    "np.random.seed(0)\n",
    "X,Y = ml.shuffleData(X,Y)\n",
    "\n",
    "training_set = 190000\n",
    "\n",
    "# Setting Xtr, Ytr, Xva, Yva\n",
    "Xtr = X[:training_set, :]\n",
    "Ytr = Y[:training_set]\n",
    "Xva = X[training_set:, :]\n",
    "Yva = Y[training_set:]\n",
    "\n",
    "\n",
    "def calcError(prediction, real):\n",
    "    err_count = 0.\n",
    "    for i in range(len(prediction)):\n",
    "        if prediction[i] != real[i]:\n",
    "            err_count+=1\n",
    "    return err_count / len(prediction)\n",
    "\n",
    "def convert(regress_list):\n",
    "    result = []\n",
    "    for i in regress_list:\n",
    "        if i < 0.5:\n",
    "            result.append(0)\n",
    "        else:\n",
    "            result.append(1)\n",
    "    return result"
   ]
  },
  {
   "cell_type": "code",
   "execution_count": 3,
   "metadata": {
    "collapsed": true
   },
   "outputs": [],
   "source": [
    "nn = Pipeline(\n",
    "    [(\"scale\", StandardScaler().fit(Xtr)),\n",
    "     (\"nn\", MLPClassifier(\n",
    "         hidden_layer_sizes = (14*20, 14*10),\n",
    "         warm_start = True\n",
    "     ))])"
   ]
  },
  {
   "cell_type": "code",
   "execution_count": 5,
   "metadata": {},
   "outputs": [
    {
     "data": {
      "text/plain": [
       "Pipeline(memory=None,\n",
       "     steps=[('scale', StandardScaler(copy=True, with_mean=True, with_std=True)), ('nn', MLPClassifier(activation='relu', alpha=0.0001, batch_size='auto', beta_1=0.9,\n",
       "       beta_2=0.999, early_stopping=False, epsilon=1e-08,\n",
       "       hidden_layer_sizes=(280, 140), learning_rate='constant',\n",
       "       learning_r...e=True, solver='adam', tol=0.0001, validation_fraction=0.1,\n",
       "       verbose=False, warm_start=True))])"
      ]
     },
     "execution_count": 5,
     "metadata": {},
     "output_type": "execute_result"
    }
   ],
   "source": [
    "nn.fit(Xtr, Ytr)"
   ]
  },
  {
   "cell_type": "code",
   "execution_count": 25,
   "metadata": {
    "collapsed": true
   },
   "outputs": [],
   "source": [
    "Yva_hat = nn.predict(Xva)"
   ]
  },
  {
   "cell_type": "code",
   "execution_count": 26,
   "metadata": {},
   "outputs": [
    {
     "name": "stdout",
     "output_type": "stream",
     "text": [
      "Validation AUC: 0.696684165995\n"
     ]
    }
   ],
   "source": [
    "valAuc = roc_auc_score(Yva_hat, Yva)\n",
    "print \"Validation AUC:\", valAuc"
   ]
  },
  {
   "cell_type": "code",
   "execution_count": 27,
   "metadata": {},
   "outputs": [
    {
     "name": "stdout",
     "output_type": "stream",
     "text": [
      "Validation Error: 0.2754\n"
     ]
    }
   ],
   "source": [
    "print \"Validation Error:\", calcError(Yva_hat, Yva)"
   ]
  },
  {
   "cell_type": "code",
   "execution_count": 28,
   "metadata": {},
   "outputs": [
    {
     "name": "stdout",
     "output_type": "stream",
     "text": [
      "Training Error: 0.231494736842\n"
     ]
    }
   ],
   "source": [
    "Ytr_hat = nn.predict(Xtr)\n",
    "print \"Training Error:\", calcError(Ytr_hat, Ytr)"
   ]
  },
  {
   "cell_type": "code",
   "execution_count": null,
   "metadata": {
    "collapsed": true
   },
   "outputs": [],
   "source": []
  }
 ],
 "metadata": {
  "kernelspec": {
   "display_name": "Python 2",
   "language": "python",
   "name": "python2"
  },
  "language_info": {
   "codemirror_mode": {
    "name": "ipython",
    "version": 2
   },
   "file_extension": ".py",
   "mimetype": "text/x-python",
   "name": "python",
   "nbconvert_exporter": "python",
   "pygments_lexer": "ipython2",
   "version": "2.7.14"
  }
 },
 "nbformat": 4,
 "nbformat_minor": 2
}
