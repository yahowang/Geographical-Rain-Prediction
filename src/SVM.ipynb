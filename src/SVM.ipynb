{
 "cells": [
  {
   "cell_type": "code",
   "execution_count": null,
   "metadata": {
    "collapsed": true
   },
   "outputs": [],
   "source": [
    "from sklearn.svm import SVC\n",
    "from sklearn.preprocessing import scale\n",
    "from sklearn.metrics import roc_auc_score\n",
    "import numpy as np\n",
    "import matplotlib.pyplot as plt\n",
    "from collections import defaultdict\n",
    "%matplotlib inline\n",
    "\n",
    "np.random.seed(0)\n",
    "import mltools as ml\n",
    "X = np.genfromtxt(\"data/X_train.txt\", delimiter = None)\n",
    "Y = np.genfromtxt(\"data/Y_train.txt\", delimiter = None)\n",
    "Xte = np.genfromtxt(\"data/X_test.txt\", delimiter = None)\n",
    "np.random.seed(0)\n",
    "\n",
    "\n",
    "\n",
    "X, Y = ml.shuffleData(X, Y)\n",
    "Xtr = X[:10000, :]\n",
    "Ytr = Y[:10000]\n",
    "Xva = X[10000: , :]\n",
    "Yva = Y[10000:]"
   ]
  },
  {
   "cell_type": "code",
   "execution_count": null,
   "metadata": {
    "collapsed": true
   },
   "outputs": [],
   "source": [
    "def calcError(Yvalidation_hat, Yvalidation):\n",
    "    err_count = 0.\n",
    "    for i in range(len(Yvalidation_hat)):\n",
    "        if Yvalidation_hat[i] != Yvalidation[i]:\n",
    "            err_count+=1\n",
    "    print \"Error rate:\", err_count / len(Yvalidation_hat)"
   ]
  },
  {
   "cell_type": "code",
   "execution_count": null,
   "metadata": {
    "collapsed": true
   },
   "outputs": [],
   "source": [
    "kernals = [\"poly\", \"rbf\", \"sigmoid\", \"precomputed\"]\n",
    "\n",
    "Xitr = scale(Xtr)\n",
    "for k in kernals:\n",
    "    clf = SVC(kernel=k)\n",
    "    clf.fit(Xitr, Ytr)\n",
    "    Yhat = clf.predict(Xva)\n",
    "    Yhattr = clf.predict(Xtr)\n",
    "    print k,\" tr: \", roc_auc_score(Ytr, Yhattr)\n",
    "    print k,\" va: \", roc_auc_score(Yva, Yhat)\n",
    "\n"
   ]
  },
  {
   "cell_type": "code",
   "execution_count": null,
   "metadata": {
    "collapsed": true
   },
   "outputs": [],
   "source": []
  }
 ],
 "metadata": {
  "kernelspec": {
   "display_name": "Python 2",
   "language": "python",
   "name": "python2"
  },
  "language_info": {
   "codemirror_mode": {
    "name": "ipython",
    "version": 2
   },
   "file_extension": ".py",
   "mimetype": "text/x-python",
   "name": "python",
   "nbconvert_exporter": "python",
   "pygments_lexer": "ipython2",
   "version": "2.7.14"
  }
 },
 "nbformat": 4,
 "nbformat_minor": 2
}
