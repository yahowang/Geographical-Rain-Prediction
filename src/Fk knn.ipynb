{
 "cells": [
  {
   "cell_type": "code",
   "execution_count": 3,
   "metadata": {
    "collapsed": true
   },
   "outputs": [],
   "source": [
    "from __future__ import division\n",
    "import numpy as np\n",
    "import matplotlib.pyplot as plt\n",
    "from collections import defaultdict\n",
    "%matplotlib inline\n",
    "\n",
    "np.random.seed(0)\n",
    "import mltools as ml"
   ]
  },
  {
   "cell_type": "code",
   "execution_count": 4,
   "metadata": {},
   "outputs": [],
   "source": [
    "X = np.genfromtxt(\"data/X_train.txt\", delimiter = None)\n",
    "Y = np.genfromtxt(\"data/Y_train.txt\", delimiter = None)\n",
    "np.random.seed(0)\n",
    "\n",
    "\n",
    "\n",
    "X, Y = ml.shuffleData(X, Y)\n",
    "Xtr = X[:10000, :]\n",
    "Xva = X[10000:20000, :]\n",
    "Ytr = Y[:10000]\n",
    "Yva = Y[10000:20000]\n"
   ]
  },
  {
   "cell_type": "code",
   "execution_count": 5,
   "metadata": {
    "collapsed": true
   },
   "outputs": [],
   "source": [
    "class knnCFls(ml.base.classifier):\n",
    "    def __init__(self, learners):\n",
    "        \"\"\"Constructs a BaggedTree class with a set of learners. \"\"\"\n",
    "        self.learners = learners\n",
    "    \n",
    "    def predictSoft(self, X):\n",
    "        \"\"\"Predicts the probabilities with each bagged learner and average over the results. \"\"\"\n",
    "        n_bags = len(self.learners)\n",
    "        preds = [self.learners[l].predictSoft(X) for l in range(n_bags)]\n",
    "        return np.mean(preds, axis=0)"
   ]
  },
  {
   "cell_type": "code",
   "execution_count": null,
   "metadata": {},
   "outputs": [],
   "source": [
    "def knnCF(X, Y, Xte, K):\n",
    "    clusterDict = defaultdict(list)\n",
    "    xCopy = np.copy(X)\n",
    "    auctr = []\n",
    "    aucva = []\n",
    "    learners = []\n",
    "\n",
    "    Z, d = ml.cluster.agglomerative(xCopy, K=50, method='max')\n",
    "    for i in range(99):\n",
    "        if Z[i] not in clusterDict:\n",
    "            clusterDict[Z[i]] = [(xCopy[i], Y[i])]\n",
    "        else:\n",
    "            clusterDict[Z[i]].append((xCopy[i], Y[i]))\n",
    "     \n",
    "    for item in clusterDict.items():\n",
    "        xtr = []\n",
    "        ytr = []\n",
    "        tmse = []\n",
    "        vmse = []\n",
    "\n",
    "        for tr in range(len(item[1])):\n",
    "            xtr.append(item[1][tr][0])\n",
    "            ytr.append(item[1][tr][1])\n",
    "        xtr = np.array(xtr)\n",
    "        ytr = np.array(ytr)\n",
    "\n",
    "\n",
    "        learner = ml.knn.knnClassify(xtr, ytr, K)\n",
    "        learners.append(learner)\n",
    "        \n",
    "#         if len(xtr) != 1 and np.sum(ytr) != len(ytr) and np.sum(ytr) != 0:\n",
    "#             auctr.append(learner.auc(xtr, ytr))\n",
    "#             aucva.append(learner.auc(Xva, Yva))\n",
    "#         else:\n",
    "#             auctr.append(ytr[0])\n",
    "#             aucva.append(Ytr[0])\n",
    "#     auctr = np.array(auctr)\n",
    "    aucva = np.array(aucva)\n",
    "    knnls = knnCFls(learners)\n",
    "#     trResult = np.mean(auctr)\n",
    "#     vaResult = np.mean(aucva)\n",
    "    \n",
    "    Yte = np.vstack((np.arange(Xte.shape[0]), knnls.predictSoft(Xte)[:,1])).T\n",
    "    # Output a file with two columns, a row ID and a confidence in class 1:\n",
    "    np.savetxt('Y_submit_knn.txt',Yte,'%d, %.2f',header='ID,Prob1',comments='',delimiter=',')\n",
    "    \n",
    "#     print \"trResult\", trResult\n",
    "#     print \"vaResult\", vaResult             \n",
    "#     print tmse\n",
    "#     print vmse\n",
    "    \n",
    "    return"
   ]
  },
  {
   "cell_type": "code",
   "execution_count": null,
   "metadata": {},
   "outputs": [],
   "source": [
    "Xte = np.genfromtxt('data/X_test.txt', delimiter=None)\n",
    "knnCF(X, Y, Xte, 20)\n"
   ]
  },
  {
   "cell_type": "code",
   "execution_count": null,
   "metadata": {
    "collapsed": true
   },
   "outputs": [],
   "source": []
  },
  {
   "cell_type": "code",
   "execution_count": null,
   "metadata": {
    "collapsed": true
   },
   "outputs": [],
   "source": []
  }
 ],
 "metadata": {
  "kernelspec": {
   "display_name": "Python 2",
   "language": "python",
   "name": "python2"
  },
  "language_info": {
   "codemirror_mode": {
    "name": "ipython",
    "version": 2
   },
   "file_extension": ".py",
   "mimetype": "text/x-python",
   "name": "python",
   "nbconvert_exporter": "python",
   "pygments_lexer": "ipython2",
   "version": "2.7.14"
  }
 },
 "nbformat": 4,
 "nbformat_minor": 2
}
