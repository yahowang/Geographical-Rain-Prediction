{
 "cells": [
  {
   "cell_type": "code",
   "execution_count": 1,
   "metadata": {
    "collapsed": true
   },
   "outputs": [],
   "source": [
    "from sklearn.svm import SVC\n",
    "from sklearn.preprocessing import scale\n",
    "from sklearn.metrics import roc_auc_score\n",
    "import numpy as np\n",
    "import matplotlib.pyplot as plt\n",
    "from collections import defaultdict\n",
    "%matplotlib inline\n",
    "\n",
    "np.random.seed(0)\n",
    "import mltools as ml\n",
    "X = np.genfromtxt(\"data/X_train.txt\", delimiter = None)\n",
    "Y = np.genfromtxt(\"data/Y_train.txt\", delimiter = None)\n",
    "Xte = np.genfromtxt(\"data/X_test.txt\", delimiter = None)\n",
    "np.random.seed(0)\n",
    "\n",
    "\n",
    "\n",
    "X, Y = ml.shuffleData(X, Y)\n",
    "\n",
    "train_num = 50000\n",
    "\n",
    "Xtr = X[:train_num, :]\n",
    "Ytr = Y[:train_num]\n",
    "Xva = X[train_num: , :]\n",
    "Yva = Y[train_num:]"
   ]
  },
  {
   "cell_type": "code",
   "execution_count": 2,
   "metadata": {},
   "outputs": [
    {
     "name": "stdout",
     "output_type": "stream",
     "text": [
      "poly  tr:  0.499877656343\n",
      "poly  va:  0.499780268504\n",
      "rbf  tr:  0.5\n",
      "rbf  va:  0.5\n",
      "sigmoid  tr:  0.476367229232\n",
      "sigmoid  va:  0.478390384683\n"
     ]
    }
   ],
   "source": [
    "kernals = [\"poly\", \"rbf\", \"sigmoid\"]\n",
    " \n",
    "Xitr = scale(Xtr)\n",
    "Xiva = scale(Xva)\n",
    "\n",
    "clf = SVC(kernel=\"poly\")\n",
    "clf.fit(Xitr, Ytr)\n",
    "Yhat = clf.predict(Xiva)\n",
    "Yhattr = clf.predict(Xtr)\n",
    "print k,\" tr: \", roc_auc_score(Ytr, Yhattr)\n",
    "print k,\" va: \", roc_auc_score(Yva, Yhat)"
   ]
  },
  {
   "cell_type": "code",
   "execution_count": null,
   "metadata": {
    "collapsed": true
   },
   "outputs": [],
   "source": []
  }
 ],
 "metadata": {
  "kernelspec": {
   "display_name": "Python 2",
   "language": "python",
   "name": "python2"
  },
  "language_info": {
   "codemirror_mode": {
    "name": "ipython",
    "version": 2
   },
   "file_extension": ".py",
   "mimetype": "text/x-python",
   "name": "python",
   "nbconvert_exporter": "python",
   "pygments_lexer": "ipython2",
   "version": "2.7.14"
  }
 },
 "nbformat": 4,
 "nbformat_minor": 2
}
