{
 "cells": [
  {
   "cell_type": "code",
   "execution_count": 1,
   "metadata": {
    "collapsed": true
   },
   "outputs": [],
   "source": [
    "# index 5  depth\n",
    "# index 8  feature\n",
    "# index 11 auc\n",
    "# index 14 validation error\n",
    "# index 17 training error\n",
    "\n",
    "data = []\n",
    "\n",
    "file = \"ddd.txt\"\n",
    "i = 0\n",
    "for line in open(file):\n",
    "    datum = line.split()\n",
    "    data.append(datum)\n",
    "\n",
    "\n",
    "\n"
   ]
  },
  {
   "cell_type": "code",
   "execution_count": 4,
   "metadata": {},
   "outputs": [
    {
     "name": "stdout",
     "output_type": "stream",
     "text": [
      "['150000', 'Train', 'Data', 'depth', '=', '20', 'feature', '=', '1', 'ValAUC', '=', '0.718990003173', 'ValErr', '=', '0.26306', 'TraErr', '=', '0.148546666667']\n"
     ]
    }
   ],
   "source": [
    "rankAUC = sorted(data, key=lambda l: -float(l[11]))\n",
    "print rankAUC[0]"
   ]
  },
  {
   "cell_type": "code",
   "execution_count": 7,
   "metadata": {},
   "outputs": [
    {
     "name": "stdout",
     "output_type": "stream",
     "text": [
      "['150000', 'Train', 'Data', 'depth', '=', '20', 'feature', '=', '1', 'ValAUC', '=', '0.718990003173', 'ValErr', '=', '0.26306', 'TraErr', '=', '0.148546666667']\n"
     ]
    }
   ],
   "source": [
    "rankTrainValDiff = sorted(data, key = lambda l:   abs(float(l[17]) - float(l[14])))\n",
    "print rankTrainValDiff[0]"
   ]
  },
  {
   "cell_type": "code",
   "execution_count": 8,
   "metadata": {
    "collapsed": true
   },
   "outputs": [],
   "source": [
    "# init\n",
    "from __future__ import division\n",
    "import numpy as np\n",
    "import matplotlib.pyplot as plt\n",
    "import mltools as ml\n",
    "from sklearn.metrics import roc_auc_score\n",
    "from sklearn.ensemble import RandomForestRegressor"
   ]
  },
  {
   "cell_type": "code",
   "execution_count": 15,
   "metadata": {
    "collapsed": true
   },
   "outputs": [],
   "source": [
    "# load data\n",
    "X = np.genfromtxt('data/X_train.txt', delimiter=None)\n",
    "Y = np.genfromtxt('data/Y_train.txt', delimiter=None)\n",
    "Xte = np.genfromtxt('data/X_test.txt', delimiter=None)\n",
    "\n",
    "np.random.seed(0)\n",
    "X,Y = ml.shuffleData(X,Y)"
   ]
  },
  {
   "cell_type": "code",
   "execution_count": 16,
   "metadata": {
    "collapsed": true
   },
   "outputs": [],
   "source": [
    "# Setting Xtr, Ytr, Xva, Yva\n",
    "Xtr = X[:150000, :]\n",
    "Ytr = Y[:150000]\n",
    "Xva = X[150000:, :]\n",
    "Yva = Y[150000:]"
   ]
  },
  {
   "cell_type": "code",
   "execution_count": 17,
   "metadata": {
    "collapsed": true
   },
   "outputs": [],
   "source": [
    "def calcError(prediction, real):\n",
    "    err_count = 0.\n",
    "    for i in range(len(prediction)):\n",
    "        if prediction[i] != real[i]:\n",
    "            err_count+=1\n",
    "    return err_count / len(prediction)"
   ]
  },
  {
   "cell_type": "code",
   "execution_count": 18,
   "metadata": {
    "collapsed": true
   },
   "outputs": [],
   "source": [
    "def convert(regress_list):\n",
    "    result = []\n",
    "    for i in regress_list:\n",
    "        if i < 0.5:\n",
    "            result.append(0)\n",
    "        else:\n",
    "            result.append(1)\n",
    "    return result"
   ]
  },
  {
   "cell_type": "code",
   "execution_count": 19,
   "metadata": {},
   "outputs": [
    {
     "name": "stdout",
     "output_type": "stream",
     "text": [
      "Validation AUC 0.725273555801\n",
      "Validation Error 0.2647\n",
      "Train Error 0.18286 \n",
      "\n"
     ]
    }
   ],
   "source": [
    "learner = RandomForestRegressor(max_depth=18, \n",
    "                                random_state=0, \n",
    "                                n_estimators = 500, \n",
    "                                max_features = 1)\n",
    "learner.fit(Xtr, Ytr)\n",
    "Yva_hat = convert(learner.predict(Xva))\n",
    "validation_auc = roc_auc_score(Yva_hat, Yva)\n",
    "\n",
    "print \"Validation AUC\", validation_auc\n",
    "print \"Validation Error\", calcError(Yva_hat, Yva)\n",
    "Ytr_hat = convert(learner.predict(Xtr))\n",
    "print \"Train Error\", calcError(Ytr_hat, Ytr), \"\\n\""
   ]
  },
  {
   "cell_type": "code",
   "execution_count": null,
   "metadata": {
    "collapsed": true
   },
   "outputs": [],
   "source": []
  },
  {
   "cell_type": "code",
   "execution_count": 20,
   "metadata": {
    "collapsed": true
   },
   "outputs": [],
   "source": [
    "Yte_hat = learner.predict(Xte)\n",
    "Yte = np.vstack((np.arange(Xte.shape[0]), Yte_hat)).T\n",
    "np.savetxt('Y_submit_random_forestForEnsemble.txt',Yte,'%d, %.2f',header='ID,Prob1',comments='',delimiter=',')"
   ]
  },
  {
   "cell_type": "code",
   "execution_count": null,
   "metadata": {
    "collapsed": true
   },
   "outputs": [],
   "source": []
  },
  {
   "cell_type": "code",
   "execution_count": null,
   "metadata": {
    "collapsed": true
   },
   "outputs": [],
   "source": []
  }
 ],
 "metadata": {
  "kernelspec": {
   "display_name": "Python 2",
   "language": "python",
   "name": "python2"
  },
  "language_info": {
   "codemirror_mode": {
    "name": "ipython",
    "version": 2
   },
   "file_extension": ".py",
   "mimetype": "text/x-python",
   "name": "python",
   "nbconvert_exporter": "python",
   "pygments_lexer": "ipython2",
   "version": "2.7.14"
  }
 },
 "nbformat": 4,
 "nbformat_minor": 2
}
