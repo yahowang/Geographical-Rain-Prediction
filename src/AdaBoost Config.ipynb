{
 "cells": [
  {
   "cell_type": "code",
   "execution_count": 5,
   "metadata": {
    "scrolled": false
   },
   "outputs": [],
   "source": [
    "file = \"ada.txt\"\n",
    "# 2 depth\n",
    "# 5 split\n",
    "# 8 AUC\n",
    "# 11 validation error\n",
    "# 14 training error\n",
    "\n",
    "data = []\n",
    "\n",
    "for line in open(file):\n",
    "    datum = line.split()\n",
    "    data.append(datum)\n",
    "\n",
    "\n",
    "\n",
    "\n",
    "\n"
   ]
  },
  {
   "cell_type": "code",
   "execution_count": 9,
   "metadata": {},
   "outputs": [],
   "source": [
    "rankAUC = sorted(data, key=lambda l: float(l[11]))"
   ]
  },
  {
   "cell_type": "code",
   "execution_count": 10,
   "metadata": {},
   "outputs": [
    {
     "name": "stdout",
     "output_type": "stream",
     "text": [
      "['depth', '=', '39', 'split', '=', '9', 'ValAuc', '=', '0.716441224556', 'ValErr', '=', '0.258', 'TraErr', '=', '0.16096']\n"
     ]
    }
   ],
   "source": [
    "print rankAUC[0]"
   ]
  },
  {
   "cell_type": "code",
   "execution_count": 11,
   "metadata": {},
   "outputs": [
    {
     "name": "stdout",
     "output_type": "stream",
     "text": [
      "['depth', '=', '35', 'split', '=', '16', 'ValAuc', '=', '0.662359771986', 'ValErr', '=', '0.30478', 'TraErr', '=', '0.304906666667']\n"
     ]
    }
   ],
   "source": [
    "rankTrainValDiff = sorted(data, key = lambda l:   abs(float(l[11]) - float(l[14])))\n",
    "print rankTrainValDiff[0]"
   ]
  },
  {
   "cell_type": "code",
   "execution_count": null,
   "metadata": {
    "collapsed": true
   },
   "outputs": [],
   "source": []
  }
 ],
 "metadata": {
  "kernelspec": {
   "display_name": "Python 2",
   "language": "python",
   "name": "python2"
  },
  "language_info": {
   "codemirror_mode": {
    "name": "ipython",
    "version": 2
   },
   "file_extension": ".py",
   "mimetype": "text/x-python",
   "name": "python",
   "nbconvert_exporter": "python",
   "pygments_lexer": "ipython2",
   "version": "2.7.14"
  }
 },
 "nbformat": 4,
 "nbformat_minor": 2
}
