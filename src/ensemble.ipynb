{
 "cells": [
  {
   "cell_type": "code",
   "execution_count": 1,
   "metadata": {
    "collapsed": true
   },
   "outputs": [],
   "source": [
    "import numpy as np\n",
    "import matplotlib.pyplot as plt\n",
    "from collections import defaultdict\n",
    "%matplotlib inline\n",
    "\n",
    "np.random.seed(0)\n",
    "import mltools as ml"
   ]
  },
  {
   "cell_type": "code",
   "execution_count": 17,
   "metadata": {},
   "outputs": [],
   "source": [
    "aB = open(\"choice/adaBoost.txt\", \"r\")\n",
    "nN = open(\"choice/neuralNetwork.txt\", \"r\")\n",
    "rF = open(\"choice/randomForrest.txt\", \"r\")\n",
    "gB = open(\"Y_sumbit_newGB.txt\", \"r\")\n",
    "kN = open(\"choice/knn.txt\", \"r\")\n",
    "# data\n",
    "ada = []\n",
    "neural = []\n",
    "random = []\n",
    "gradient = []\n",
    "k = []\n",
    "\n",
    "# 提取数据\n",
    "for i in aB:\n",
    "    n = i.split(\" \")\n",
    "    if len(n) != 1:\n",
    "        ada.append(n[1].strip(\"\\n\"))\n",
    "        \n",
    "for i in nN:\n",
    "    n = i.split(\" \")\n",
    "    if len(n) != 1:\n",
    "        neural.append(n[1].strip(\"\\n\"))\n",
    "        \n",
    "for i in rF:\n",
    "    n = i.split(\" \")\n",
    "    if len(n) != 1:\n",
    "        random.append(n[1].strip(\"\\n\"))\n",
    "    \n",
    "for i in gB:\n",
    "    n = i.split(\" \")\n",
    "    if len(n) != 1:\n",
    "        gradient.append(n[1].strip(\"\\n\"))\n",
    "\n",
    "for i in kN:\n",
    "    n = i.split(\" \")\n",
    "    if len(n) != 1:\n",
    "        k.append(n[1].strip(\"\\n\"))"
   ]
  },
  {
   "cell_type": "code",
   "execution_count": 25,
   "metadata": {
    "collapsed": true
   },
   "outputs": [],
   "source": [
    "gradient_weight = 13\n",
    "ada_weight = 2\n",
    "random_weight = 1\n",
    "k_weight = 1\n",
    "result_name = \"FinalEnsemble.txt\"\n",
    "\n",
    "result4 = []\n",
    "result3 = []\n",
    "for i in range(len(ada)):\n",
    "    num4 = float(ada[i])*ada_weight + float(random[i])*random_weight + float(gradient[i])*gradient_weight + float(k[i])*k_weight\n",
    "    num3 = float(ada[i]) + float(random[i]) + float(gradient[i])\n",
    "    result4.append(float(num4)/(gradient_weight+ada_weight+random_weight+k_weight))\n",
    "    result3.append(float(num3)/(gradient_weight+ada_weight+random_weight))"
   ]
  },
  {
   "cell_type": "code",
   "execution_count": 26,
   "metadata": {},
   "outputs": [],
   "source": [
    "outputFile = open(result_name, \"w+\")\n",
    "outputFile.write(\"ID,Prob1\\n\")\n",
    "for i in range(len(result4)):\n",
    "    outputFile.write(\"{0}, {1:.2f}\\n\".format(i, result4[i]))\n",
    "outputFile.close()"
   ]
  },
  {
   "cell_type": "code",
   "execution_count": null,
   "metadata": {
    "collapsed": true
   },
   "outputs": [],
   "source": []
  }
 ],
 "metadata": {
  "kernelspec": {
   "display_name": "Python 2",
   "language": "python",
   "name": "python2"
  },
  "language_info": {
   "codemirror_mode": {
    "name": "ipython",
    "version": 2
   },
   "file_extension": ".py",
   "mimetype": "text/x-python",
   "name": "python",
   "nbconvert_exporter": "python",
   "pygments_lexer": "ipython2",
   "version": "2.7.14"
  }
 },
 "nbformat": 4,
 "nbformat_minor": 2
}
