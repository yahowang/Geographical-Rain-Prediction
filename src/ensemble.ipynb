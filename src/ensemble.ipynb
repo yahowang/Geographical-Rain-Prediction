{
 "cells": [
  {
   "cell_type": "code",
   "execution_count": 197,
   "metadata": {},
   "outputs": [],
   "source": [
    "import numpy as np\n",
    "import matplotlib.pyplot as plt\n",
    "from collections import defaultdict\n",
    "%matplotlib inline\n",
    "\n",
    "np.random.seed(0)\n",
    "import mltools as ml"
   ]
  },
  {
   "cell_type": "code",
   "execution_count": 198,
   "metadata": {
    "collapsed": true
   },
   "outputs": [],
   "source": [
    "aB = open(\"choice/adaBoost.txt\", \"r\")\n",
    "nN = open(\"choice/neuralNetwork.txt\", \"r\")\n",
    "rF = open(\"choice/randomForrest.txt\", \"r\")\n",
    "gB = open(\"choice/gradientBoostNew.txt\", \"r\")\n",
    "kN = open(\"choice/knn.txt\", \"r\")"
   ]
  },
  {
   "cell_type": "code",
   "execution_count": 199,
   "metadata": {},
   "outputs": [],
   "source": [
    "# data\n",
    "ada = []\n",
    "neural = []\n",
    "random = []\n",
    "gradient = []\n",
    "k = []\n",
    "\n",
    "# 提取数据\n",
    "for i in aB:\n",
    "    n = i.split(\" \")\n",
    "    if len(n) != 1:\n",
    "        ada.append(n[1].strip(\"\\n\"))\n",
    "        \n",
    "for i in nN:\n",
    "    n = i.split(\" \")\n",
    "    if len(n) != 1:\n",
    "        neural.append(n[1].strip(\"\\n\"))\n",
    "        \n",
    "for i in rF:\n",
    "    n = i.split(\" \")\n",
    "    if len(n) != 1:\n",
    "        random.append(n[1].strip(\"\\n\"))\n",
    "    \n",
    "for i in gB:\n",
    "    n = i.split(\" \")\n",
    "    if len(n) != 1:\n",
    "        gradient.append(n[1].strip(\"\\n\"))\n",
    "\n",
    "for i in kN:\n",
    "    n = i.split(\" \")\n",
    "    if len(n) != 1:\n",
    "        k.append(n[1].strip(\"\\n\"))\n",
    "\n",
    "        "
   ]
  },
  {
   "cell_type": "code",
   "execution_count": 200,
   "metadata": {},
   "outputs": [],
   "source": [
    "result7 = []\n",
    "result6 = []\n",
    "result5 = []\n",
    "result4 = []\n",
    "result3 = []\n",
    "result2 = []\n",
    "for i in range(len(ada)):\n",
    "    num7 = float(ada[i])*7 + float(random[i])*8 + float(gradient[i])*10 + float(k[i])*5\n",
    "#     num6 = float(ada[i])*9 + float(neural[i])*2 + float(random[i])*10 + float(gradient[i])*7 + float(k[i])*7\n",
    "    num5 = float(ada[i]) + float(neural[i]) + float(random[i]) + float(gradient[i]) + float(k[i])\n",
    "    num4 = float(ada[i]) + float(random[i])*2 + float(gradient[i])*15 + float(k[i])\n",
    "    num3 = float(ada[i]) + float(random[i]) + float(gradient[i])\n",
    "    num2 = float(ada[i]) + float(random[i])\n",
    "    \n",
    "    result7.append(float(num7)/30)\n",
    "#     result6.append(float(num6)/35)\n",
    "    result5.append(float(num5)/5)\n",
    "    result4.append(float(num4)/19)\n",
    "    result3.append(float(num3)/3)\n",
    "    result2.append(float(num2)/2)"
   ]
  },
  {
   "cell_type": "code",
   "execution_count": 201,
   "metadata": {},
   "outputs": [],
   "source": [
    "r7 = open(\"er.txt\", \"w+\")\n",
    "# r5 = open(\"ensumble5.txt\", \"w+\")\n",
    "# r4 = open(\"ensumble4.txt\", \"w+\")\n",
    "# r3 = open(\"ensumble3.txt\", \"w+\")\n",
    "# r2 = open(\"ensumble2.txt\", \"w+\")\n",
    "\n",
    "r7.write(\"ID,Prob1\\n\")\n",
    "# r5.write(\"ID,Prob1\\n\")\n",
    "# r4.write(\"ID,Prob1\\n\")\n",
    "# r3.write(\"ID,Prob1\\n\")\n",
    "# r2.write(\"ID,Prob1\\n\")\n",
    "\n",
    "for i in range(len(result5)):\n",
    "    r7.write(\"{0}, {1:.2f}\\n\".format(i, result4[i]))\n",
    "#     r5.write(\"{0}, {1:.2f}\\n\".format(i, result5[i]))\n",
    "#     r4.write(\"{0}, {1:.2f}\\n\".format(i, result4[i]))\n",
    "#     r3.write(\"{0}, {1:.2f}\\n\".format(i, result3[i]))\n",
    "#     r2.write(\"{0}, {1:.2f}\\n\".format(i, result2[i]))\n",
    "r7.close()\n",
    "# r5.close()\n",
    "# r4.close()\n",
    "# r3.close()\n",
    "# r2.close()"
   ]
  },
  {
   "cell_type": "code",
   "execution_count": null,
   "metadata": {
    "collapsed": true
   },
   "outputs": [],
   "source": []
  }
 ],
 "metadata": {
  "kernelspec": {
   "display_name": "Python 2",
   "language": "python",
   "name": "python2"
  },
  "language_info": {
   "codemirror_mode": {
    "name": "ipython",
    "version": 2
   },
   "file_extension": ".py",
   "mimetype": "text/x-python",
   "name": "python",
   "nbconvert_exporter": "python",
   "pygments_lexer": "ipython2",
   "version": "2.7.14"
  }
 },
 "nbformat": 4,
 "nbformat_minor": 2
}
