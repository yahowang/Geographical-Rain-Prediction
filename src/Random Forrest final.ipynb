{
 "cells": [
  {
   "cell_type": "code",
   "execution_count": 1,
   "metadata": {
    "collapsed": true
   },
   "outputs": [],
   "source": [
    "# init\n",
    "from __future__ import division\n",
    "import numpy as np\n",
    "import matplotlib.pyplot as plt\n",
    "import mltools as ml\n",
    "from sklearn.metrics import roc_auc_score\n",
    "from sklearn.ensemble import RandomForestRegressor"
   ]
  },
  {
   "cell_type": "code",
   "execution_count": 2,
   "metadata": {
    "collapsed": true
   },
   "outputs": [],
   "source": [
    "# load data\n",
    "X = np.genfromtxt('data/X_train.txt', delimiter=None)\n",
    "Y = np.genfromtxt('data/Y_train.txt', delimiter=None)\n",
    "Xte = np.genfromtxt('data/X_test.txt', delimiter=None)\n",
    "\n",
    "np.random.seed(0)\n",
    "X,Y = ml.shuffleData(X,Y)"
   ]
  },
  {
   "cell_type": "code",
   "execution_count": 3,
   "metadata": {
    "collapsed": true
   },
   "outputs": [],
   "source": [
    "def calcError(prediction, real):\n",
    "    err_count = 0.\n",
    "    for i in range(len(prediction)):\n",
    "        if prediction[i] != real[i]:\n",
    "            err_count+=1\n",
    "    return err_count / len(prediction)"
   ]
  },
  {
   "cell_type": "code",
   "execution_count": 18,
   "metadata": {
    "collapsed": true
   },
   "outputs": [],
   "source": [
    "# Setting Xtr, Ytr, Xva, Yva\n",
    "Xtr = X[:190000, :]\n",
    "Ytr = Y[:190000]\n",
    "Xva = X[190000:, :]\n",
    "Yva = Y[190000:]"
   ]
  },
  {
   "cell_type": "code",
   "execution_count": null,
   "metadata": {
    "collapsed": true
   },
   "outputs": [],
   "source": [
    "# init learner\n",
    "# Kaggle上传的是 max depth = 20, max_feature = 2\n",
    "regr = RandomForestRegressor(max_depth=20, \n",
    "                             random_state=0, \n",
    "                             n_estimators = 100, \n",
    "                             max_features = 1)"
   ]
  },
  {
   "cell_type": "code",
   "execution_count": 5,
   "metadata": {},
   "outputs": [
    {
     "data": {
      "text/plain": [
       "RandomForestRegressor(bootstrap=True, criterion='mse', max_depth=30,\n",
       "           max_features=8, max_leaf_nodes=None, min_impurity_decrease=0.0,\n",
       "           min_impurity_split=None, min_samples_leaf=1,\n",
       "           min_samples_split=2, min_weight_fraction_leaf=0.0,\n",
       "           n_estimators=100, n_jobs=1, oob_score=False, random_state=0,\n",
       "           verbose=0, warm_start=False)"
      ]
     },
     "execution_count": 5,
     "metadata": {},
     "output_type": "execute_result"
    }
   ],
   "source": [
    "# learn\n",
    "regr.fit(Xtr, Ytr)"
   ]
  },
  {
   "cell_type": "code",
   "execution_count": 4,
   "metadata": {
    "collapsed": true
   },
   "outputs": [],
   "source": [
    "def convert(regress_list):\n",
    "    result = []\n",
    "    for i in regress_list:\n",
    "        if i < 0.5:\n",
    "            result.append(0)\n",
    "        else:\n",
    "            result.append(1)\n",
    "    return result"
   ]
  },
  {
   "cell_type": "code",
   "execution_count": 7,
   "metadata": {
    "scrolled": false
   },
   "outputs": [
    {
     "name": "stdout",
     "output_type": "stream",
     "text": [
      "150000 Train Data depth = 20 feature = 1 ValAUC = 0.718990003173 ValErr = 0.26306 TraErr = 0.148546666667\n",
      "150000 Train Data depth = 20 feature = 2 ValAUC = 0.714809982881 ValErr = 0.2627 TraErr = 0.128886666667\n",
      "150000 Train Data depth = 20 feature = 3 ValAUC = 0.712362559135 ValErr = 0.26344 TraErr = 0.120186666667\n",
      "150000 Train Data depth = 20 feature = 4 ValAUC = 0.710297956802 ValErr = 0.2645 TraErr = 0.115133333333\n",
      "150000 Train Data depth = 20 feature = 5 ValAUC = 0.70850017686 ValErr = 0.26562 TraErr = 0.11068\n",
      "150000 Train Data depth = 20 feature = 6 ValAUC = 0.707756689206 ValErr = 0.2657 TraErr = 0.10768\n",
      "150000 Train Data depth = 20 feature = 7 ValAUC = 0.706515358852 ValErr = 0.2664 TraErr = 0.105513333333\n",
      "150000 Train Data depth = 20 feature = 8 ValAUC = 0.706143916933 ValErr = 0.26664 TraErr = 0.102953333333\n",
      "150000 Train Data depth = 20 feature = 9 ValAUC = 0.705421943565 ValErr = 0.2669 TraErr = 0.100506666667\n",
      "150000 Train Data depth = 20 feature = 10 ValAUC = 0.703861380925 ValErr = 0.26802 TraErr = 0.0992266666667\n",
      "150000 Train Data depth = 20 feature = 11 ValAUC = 0.703960906135 ValErr = 0.26778 TraErr = 0.0983\n",
      "150000 Train Data depth = 20 feature = 12 ValAUC = 0.70527005127 ValErr = 0.26668 TraErr = 0.0964066666667\n",
      "150000 Train Data depth = 20 feature = 13 ValAUC = 0.703629735941 ValErr = 0.26774 TraErr = 0.0946133333333\n",
      "150000 Train Data depth = 20 feature = 14 ValAUC = 0.704957855437 ValErr = 0.26652 TraErr = 0.0933133333333\n",
      "150000 Train Data depth = 21 feature = 1 ValAUC = 0.715077464486 ValErr = 0.26322 TraErr = 0.130953333333\n",
      "150000 Train Data depth = 21 feature = 2 ValAUC = 0.712702915434 ValErr = 0.2627 TraErr = 0.114393333333\n",
      "150000 Train Data depth = 21 feature = 3 ValAUC = 0.70970670712 ValErr = 0.26416 TraErr = 0.106506666667\n",
      "150000 Train Data depth = 21 feature = 4 ValAUC = 0.707521688422 ValErr = 0.26536 TraErr = 0.101153333333\n",
      "150000 Train Data depth = 21 feature = 5 ValAUC = 0.706422617986 ValErr = 0.26598 TraErr = 0.0978533333333\n",
      "150000 Train Data depth = 21 feature = 6 ValAUC = 0.704228189749 ValErr = 0.2673 TraErr = 0.09576\n",
      "150000 Train Data depth = 21 feature = 7 ValAUC = 0.704138480681 ValErr = 0.26736 TraErr = 0.0944733333333\n",
      "150000 Train Data depth = 21 feature = 8 ValAUC = 0.703428263121 ValErr = 0.2676 TraErr = 0.09058\n",
      "150000 Train Data depth = 21 feature = 9 ValAUC = 0.702677838218 ValErr = 0.2681 TraErr = 0.0890066666667\n",
      "150000 Train Data depth = 21 feature = 10 ValAUC = 0.701385199663 ValErr = 0.26906 TraErr = 0.0875933333333\n",
      "150000 Train Data depth = 21 feature = 11 ValAUC = 0.702594934752 ValErr = 0.268 TraErr = 0.0860066666667\n",
      "150000 Train Data depth = 21 feature = 12 ValAUC = 0.702057912665 ValErr = 0.26822 TraErr = 0.0844866666667\n",
      "150000 Train Data depth = 21 feature = 13 ValAUC = 0.701962602329 ValErr = 0.26828 TraErr = 0.0832933333333\n",
      "150000 Train Data depth = 21 feature = 14 ValAUC = 0.702287896861 ValErr = 0.26778 TraErr = 0.0814666666667\n",
      "150000 Train Data depth = 22 feature = 1 ValAUC = 0.713329370798 ValErr = 0.26326 TraErr = 0.117426666667\n",
      "150000 Train Data depth = 22 feature = 2 ValAUC = 0.706823670161 ValErr = 0.26584 TraErr = 0.10122\n",
      "150000 Train Data depth = 22 feature = 3 ValAUC = 0.707681640251 ValErr = 0.26458 TraErr = 0.0944\n",
      "150000 Train Data depth = 22 feature = 4 ValAUC = 0.705279624727 ValErr = 0.266 TraErr = 0.0890266666667\n",
      "150000 Train Data depth = 22 feature = 5 ValAUC = 0.704741911475 ValErr = 0.2662 TraErr = 0.0854666666667\n",
      "150000 Train Data depth = 22 feature = 6 ValAUC = 0.702570991532 ValErr = 0.26794 TraErr = 0.08592\n",
      "150000 Train Data depth = 22 feature = 7 ValAUC = 0.702178879191 ValErr = 0.2679 TraErr = 0.0826266666667\n",
      "150000 Train Data depth = 22 feature = 8 ValAUC = 0.701597041169 ValErr = 0.26832 TraErr = 0.0807666666667\n",
      "150000 Train Data depth = 22 feature = 9 ValAUC = 0.702304103034 ValErr = 0.26768 TraErr = 0.0794\n",
      "150000 Train Data depth = 22 feature = 10 ValAUC = 0.701906719196 ValErr = 0.2679 TraErr = 0.0766933333333\n",
      "150000 Train Data depth = 22 feature = 11 ValAUC = 0.700409673397 ValErr = 0.26906 TraErr = 0.07658\n",
      "150000 Train Data depth = 22 feature = 12 ValAUC = 0.702323562944 ValErr = 0.26746 TraErr = 0.0751666666667\n",
      "150000 Train Data depth = 22 feature = 13 ValAUC = 0.699738217481 ValErr = 0.2693 TraErr = 0.0733866666667\n",
      "150000 Train Data depth = 22 feature = 14 ValAUC = 0.699882792574 ValErr = 0.26912 TraErr = 0.07232\n",
      "150000 Train Data depth = 23 feature = 1 ValAUC = 0.710064458334 ValErr = 0.26398 TraErr = 0.104626666667\n",
      "150000 Train Data depth = 23 feature = 2 ValAUC = 0.707460594834 ValErr = 0.26454 TraErr = 0.09088\n",
      "150000 Train Data depth = 23 feature = 3 ValAUC = 0.704837946556 ValErr = 0.26578 TraErr = 0.0837133333333\n",
      "150000 Train Data depth = 23 feature = 4 ValAUC = 0.703491206143 ValErr = 0.26678 TraErr = 0.0807933333333\n",
      "150000 Train Data depth = 23 feature = 5 ValAUC = 0.701738482198 ValErr = 0.26786 TraErr = 0.07686\n",
      "150000 Train Data depth = 23 feature = 6 ValAUC = 0.701208304995 ValErr = 0.26832 TraErr = 0.0762266666667\n",
      "150000 Train Data depth = 23 feature = 7 ValAUC = 0.700556282041 ValErr = 0.26868 TraErr = 0.0732933333333\n",
      "150000 Train Data depth = 23 feature = 8 ValAUC = 0.700322102489 ValErr = 0.26878 TraErr = 0.0722933333333\n",
      "150000 Train Data depth = 23 feature = 9 ValAUC = 0.700373231671 ValErr = 0.26868 TraErr = 0.0711733333333\n",
      "150000 Train Data depth = 23 feature = 10 ValAUC = 0.700304713192 ValErr = 0.26868 TraErr = 0.0697666666667\n",
      "150000 Train Data depth = 23 feature = 11 ValAUC = 0.699546343909 ValErr = 0.26918 TraErr = 0.0685266666667\n",
      "150000 Train Data depth = 23 feature = 12 ValAUC = 0.698153540109 ValErr = 0.27012 TraErr = 0.0665733333333\n",
      "150000 Train Data depth = 23 feature = 13 ValAUC = 0.699172184613 ValErr = 0.26946 TraErr = 0.0660133333333\n",
      "150000 Train Data depth = 23 feature = 14 ValAUC = 0.697669369632 ValErr = 0.2705 TraErr = 0.06524\n",
      "150000 Train Data depth = 24 feature = 1 ValAUC = 0.708667712998 ValErr = 0.26386 TraErr = 0.0938466666667\n",
      "150000 Train Data depth = 24 feature = 2 ValAUC = 0.703757259696 ValErr = 0.26652 TraErr = 0.0798733333333\n",
      "150000 Train Data depth = 24 feature = 3 ValAUC = 0.702813150537 ValErr = 0.26676 TraErr = 0.0742666666667\n",
      "150000 Train Data depth = 24 feature = 4 ValAUC = 0.700860213801 ValErr = 0.26824 TraErr = 0.07188\n",
      "150000 Train Data depth = 24 feature = 5 ValAUC = 0.6998837891 ValErr = 0.26886 TraErr = 0.0691733333333\n",
      "150000 Train Data depth = 24 feature = 6 ValAUC = 0.697831253792 ValErr = 0.27042 TraErr = 0.06788\n",
      "150000 Train Data depth = 24 feature = 7 ValAUC = 0.698052751164 ValErr = 0.27012 TraErr = 0.0665533333333\n",
      "150000 Train Data depth = 24 feature = 8 ValAUC = 0.699259888314 ValErr = 0.2693 TraErr = 0.06584\n",
      "150000 Train Data depth = 24 feature = 9 ValAUC = 0.697842295655 ValErr = 0.27028 TraErr = 0.0640733333333\n",
      "150000 Train Data depth = 24 feature = 10 ValAUC = 0.696728664155 ValErr = 0.27112 TraErr = 0.0633466666667\n",
      "150000 Train Data depth = 24 feature = 11 ValAUC = 0.698057403451 ValErr = 0.27012 TraErr = 0.0625133333333\n",
      "150000 Train Data depth = 24 feature = 12 ValAUC = 0.696376938073 ValErr = 0.27136 TraErr = 0.0618133333333\n",
      "150000 Train Data depth = 24 feature = 13 ValAUC = 0.698015872823 ValErr = 0.27 TraErr = 0.0609066666667\n",
      "150000 Train Data depth = 24 feature = 14 ValAUC = 0.697028246505 ValErr = 0.27074 TraErr = 0.0599066666667\n",
      "150000 Train Data depth = 25 feature = 1 ValAUC = 0.707351141544 ValErr = 0.26404 TraErr = 0.08354\n",
      "150000 Train Data depth = 25 feature = 2 ValAUC = 0.702331733702 ValErr = 0.26696 TraErr = 0.0716266666667\n",
      "150000 Train Data depth = 25 feature = 3 ValAUC = 0.698097346682 ValErr = 0.27014 TraErr = 0.0681933333333\n",
      "150000 Train Data depth = 25 feature = 4 ValAUC = 0.699274541144 ValErr = 0.26912 TraErr = 0.0652466666667\n",
      "150000 Train Data depth = 25 feature = 5 ValAUC = 0.699515171878 ValErr = 0.26886 TraErr = 0.0635066666667\n",
      "150000 Train Data depth = 25 feature = 6 ValAUC = 0.697802093964 ValErr = 0.2702 TraErr = 0.0627933333333\n",
      "150000 Train Data depth = 25 feature = 7 ValAUC = 0.698287784646 ValErr = 0.26982 TraErr = 0.0615533333333\n",
      "150000 Train Data depth = 25 feature = 8 ValAUC = 0.697170088327 ValErr = 0.27062 TraErr = 0.0602133333333\n",
      "150000 Train Data depth = 25 feature = 9 ValAUC = 0.696500280716 ValErr = 0.27112 TraErr = 0.05938\n"
     ]
    },
    {
     "name": "stdout",
     "output_type": "stream",
     "text": [
      "150000 Train Data depth = 25 feature = 10 ValAUC = 0.696014332162 ValErr = 0.27154 TraErr = 0.0588666666667\n",
      "150000 Train Data depth = 25 feature = 11 ValAUC = 0.696101189113 ValErr = 0.27148 TraErr = 0.0585866666667\n",
      "150000 Train Data depth = 25 feature = 12 ValAUC = 0.695445702308 ValErr = 0.27196 TraErr = 0.0578133333333\n",
      "150000 Train Data depth = 25 feature = 13 ValAUC = 0.696408935476 ValErr = 0.27116 TraErr = 0.0571933333333\n",
      "150000 Train Data depth = 25 feature = 14 ValAUC = 0.694992554875 ValErr = 0.27222 TraErr = 0.0561733333333\n",
      "150000 Train Data depth = 26 feature = 1 ValAUC = 0.703438775291 ValErr = 0.2664 TraErr = 0.07486\n",
      "150000 Train Data depth = 26 feature = 2 ValAUC = 0.69888160891 ValErr = 0.26938 TraErr = 0.06588\n",
      "150000 Train Data depth = 26 feature = 3 ValAUC = 0.697794505263 ValErr = 0.2701 TraErr = 0.0616333333333\n",
      "150000 Train Data depth = 26 feature = 4 ValAUC = 0.697134606733 ValErr = 0.27054 TraErr = 0.0595466666667\n",
      "150000 Train Data depth = 26 feature = 5 ValAUC = 0.696108043634 ValErr = 0.27142 TraErr = 0.0588533333333\n",
      "150000 Train Data depth = 26 feature = 6 ValAUC = 0.695419796232 ValErr = 0.27198 TraErr = 0.05906\n",
      "150000 Train Data depth = 26 feature = 7 ValAUC = 0.696025455035 ValErr = 0.2714 TraErr = 0.0569733333333\n",
      "150000 Train Data depth = 26 feature = 8 ValAUC = 0.695714240405 ValErr = 0.27164 TraErr = 0.0562133333333\n",
      "150000 Train Data depth = 26 feature = 9 ValAUC = 0.695474763989 ValErr = 0.2718 TraErr = 0.0557933333333\n",
      "150000 Train Data depth = 26 feature = 10 ValAUC = 0.695219956368 ValErr = 0.27204 TraErr = 0.0553\n",
      "150000 Train Data depth = 26 feature = 11 ValAUC = 0.695229094604 ValErr = 0.27204 TraErr = 0.0554066666667\n",
      "150000 Train Data depth = 26 feature = 12 ValAUC = 0.694522034776 ValErr = 0.27254 TraErr = 0.05438\n",
      "150000 Train Data depth = 26 feature = 13 ValAUC = 0.69453344953 ValErr = 0.27254 TraErr = 0.0538133333333\n",
      "150000 Train Data depth = 26 feature = 14 ValAUC = 0.694779709257 ValErr = 0.27232 TraErr = 0.0534\n",
      "150000 Train Data depth = 27 feature = 1 ValAUC = 0.700783482365 ValErr = 0.26806 TraErr = 0.0686\n",
      "150000 Train Data depth = 27 feature = 2 ValAUC = 0.698514492754 ValErr = 0.26946 TraErr = 0.0604466666667\n",
      "150000 Train Data depth = 27 feature = 3 ValAUC = 0.698492463704 ValErr = 0.26942 TraErr = 0.0576\n",
      "150000 Train Data depth = 27 feature = 4 ValAUC = 0.695534586074 ValErr = 0.2717 TraErr = 0.0567\n",
      "150000 Train Data depth = 27 feature = 5 ValAUC = 0.694748256775 ValErr = 0.27238 TraErr = 0.05566\n",
      "150000 Train Data depth = 27 feature = 6 ValAUC = 0.693848972076 ValErr = 0.27308 TraErr = 0.05448\n",
      "150000 Train Data depth = 27 feature = 7 ValAUC = 0.694807961216 ValErr = 0.2723 TraErr = 0.0547666666667\n",
      "150000 Train Data depth = 27 feature = 8 ValAUC = 0.695472166902 ValErr = 0.27174 TraErr = 0.0534933333333\n",
      "150000 Train Data depth = 27 feature = 9 ValAUC = 0.69428724933 ValErr = 0.2727 TraErr = 0.0534133333333\n",
      "150000 Train Data depth = 27 feature = 10 ValAUC = 0.69411661238 ValErr = 0.27284 TraErr = 0.05306\n",
      "150000 Train Data depth = 27 feature = 11 ValAUC = 0.694402398245 ValErr = 0.2726 TraErr = 0.0526666666667\n",
      "150000 Train Data depth = 27 feature = 12 ValAUC = 0.692585028441 ValErr = 0.27408 TraErr = 0.0523933333333\n",
      "150000 Train Data depth = 27 feature = 13 ValAUC = 0.69404738997 ValErr = 0.27288 TraErr = 0.0518733333333\n",
      "150000 Train Data depth = 27 feature = 14 ValAUC = 0.693925504111 ValErr = 0.27296 TraErr = 0.0516\n",
      "150000 Train Data depth = 28 feature = 1 ValAUC = 0.69892551598 ValErr = 0.26922 TraErr = 0.06268\n",
      "150000 Train Data depth = 28 feature = 2 ValAUC = 0.696550722762 ValErr = 0.2709 TraErr = 0.05658\n",
      "150000 Train Data depth = 28 feature = 3 ValAUC = 0.694510479746 ValErr = 0.27246 TraErr = 0.0538333333333\n",
      "150000 Train Data depth = 28 feature = 4 ValAUC = 0.694627327655 ValErr = 0.2724 TraErr = 0.0532466666667\n",
      "150000 Train Data depth = 28 feature = 5 ValAUC = 0.694927630402 ValErr = 0.27216 TraErr = 0.0536533333333\n",
      "150000 Train Data depth = 28 feature = 6 ValAUC = 0.693014802131 ValErr = 0.2737 TraErr = 0.0522933333333\n",
      "150000 Train Data depth = 28 feature = 7 ValAUC = 0.694251065039 ValErr = 0.2727 TraErr = 0.0522333333333\n",
      "150000 Train Data depth = 28 feature = 8 ValAUC = 0.694420607316 ValErr = 0.27256 TraErr = 0.0519\n",
      "150000 Train Data depth = 28 feature = 9 ValAUC = 0.692834233359 ValErr = 0.27384 TraErr = 0.0517\n",
      "150000 Train Data depth = 28 feature = 10 ValAUC = 0.693635951354 ValErr = 0.2732 TraErr = 0.0514933333333\n",
      "150000 Train Data depth = 28 feature = 11 ValAUC = 0.69234002514 ValErr = 0.27426 TraErr = 0.0509866666667\n",
      "150000 Train Data depth = 28 feature = 12 ValAUC = 0.693142929426 ValErr = 0.27358 TraErr = 0.0508933333333\n",
      "150000 Train Data depth = 28 feature = 13 ValAUC = 0.692289753848 ValErr = 0.27428 TraErr = 0.05078\n",
      "150000 Train Data depth = 28 feature = 14 ValAUC = 0.692769919745 ValErr = 0.27388 TraErr = 0.0505\n",
      "150000 Train Data depth = 29 feature = 1 ValAUC = 0.698050065781 ValErr = 0.26978 TraErr = 0.05816\n",
      "150000 Train Data depth = 29 feature = 2 ValAUC = 0.695456216825 ValErr = 0.2717 TraErr = 0.0534666666667\n",
      "150000 Train Data depth = 29 feature = 3 ValAUC = 0.694246309562 ValErr = 0.27266 TraErr = 0.0517533333333\n",
      "150000 Train Data depth = 29 feature = 4 ValAUC = 0.694407475115 ValErr = 0.27252 TraErr = 0.0513866666667\n",
      "150000 Train Data depth = 29 feature = 5 ValAUC = 0.692703400475 ValErr = 0.27394 TraErr = 0.0511933333333\n",
      "150000 Train Data depth = 29 feature = 6 ValAUC = 0.692551138212 ValErr = 0.27406 TraErr = 0.0509866666667\n",
      "150000 Train Data depth = 29 feature = 7 ValAUC = 0.692312429894 ValErr = 0.27424 TraErr = 0.05052\n",
      "150000 Train Data depth = 29 feature = 8 ValAUC = 0.693531740055 ValErr = 0.27326 TraErr = 0.05054\n",
      "150000 Train Data depth = 29 feature = 9 ValAUC = 0.691851302491 ValErr = 0.27462 TraErr = 0.05062\n",
      "150000 Train Data depth = 29 feature = 10 ValAUC = 0.691734354817 ValErr = 0.27472 TraErr = 0.0502466666667\n",
      "150000 Train Data depth = 29 feature = 11 ValAUC = 0.692902284022 ValErr = 0.27376 TraErr = 0.0500266666667\n",
      "150000 Train Data depth = 29 feature = 12 ValAUC = 0.692249477237 ValErr = 0.2743 TraErr = 0.05014\n",
      "150000 Train Data depth = 29 feature = 13 ValAUC = 0.69234754265 ValErr = 0.27422 TraErr = 0.0499066666667\n",
      "150000 Train Data depth = 29 feature = 14 ValAUC = 0.692316319128 ValErr = 0.27424 TraErr = 0.0498133333333\n",
      "150000 Train Data depth = 30 feature = 1 ValAUC = 0.69632760968 ValErr = 0.27106 TraErr = 0.0547\n",
      "150000 Train Data depth = 30 feature = 2 ValAUC = 0.695444449859 ValErr = 0.27166 TraErr = 0.0514\n",
      "150000 Train Data depth = 30 feature = 3 ValAUC = 0.694007719783 ValErr = 0.27284 TraErr = 0.05082\n",
      "150000 Train Data depth = 30 feature = 4 ValAUC = 0.69206385431 ValErr = 0.27444 TraErr = 0.0503\n",
      "150000 Train Data depth = 30 feature = 5 ValAUC = 0.693284947511 ValErr = 0.27344 TraErr = 0.0503133333333\n",
      "150000 Train Data depth = 30 feature = 6 ValAUC = 0.692068474322 ValErr = 0.27444 TraErr = 0.0501066666667\n",
      "150000 Train Data depth = 30 feature = 7 ValAUC = 0.692412275567 ValErr = 0.27416 TraErr = 0.05006\n",
      "150000 Train Data depth = 30 feature = 8 ValAUC = 0.692503727734 ValErr = 0.27408 TraErr = 0.0498866666667\n",
      "150000 Train Data depth = 30 feature = 9 ValAUC = 0.691728766507 ValErr = 0.27472 TraErr = 0.04988\n",
      "150000 Train Data depth = 30 feature = 10 ValAUC = 0.691433357015 ValErr = 0.27496 TraErr = 0.04942\n",
      "150000 Train Data depth = 30 feature = 11 ValAUC = 0.691389175917 ValErr = 0.275 TraErr = 0.0494866666667\n",
      "150000 Train Data depth = 30 feature = 12 ValAUC = 0.691506882714 ValErr = 0.2749 TraErr = 0.0495533333333\n",
      "150000 Train Data depth = 30 feature = 13 ValAUC = 0.692042129302 ValErr = 0.27446 TraErr = 0.04934\n",
      "150000 Train Data depth = 30 feature = 14 ValAUC = 0.691165756468 ValErr = 0.27518 TraErr = 0.0493\n",
      "150000 Train Data depth = 31 feature = 1 ValAUC = 0.694640730454 ValErr = 0.27234 TraErr = 0.05248\n",
      "150000 Train Data depth = 31 feature = 2 ValAUC = 0.693807447634 ValErr = 0.273 TraErr = 0.0502466666667\n",
      "150000 Train Data depth = 31 feature = 3 ValAUC = 0.692498807043 ValErr = 0.27408 TraErr = 0.0498333333333\n",
      "150000 Train Data depth = 31 feature = 4 ValAUC = 0.692499012214 ValErr = 0.27408 TraErr = 0.0497466666667\n",
      "150000 Train Data depth = 31 feature = 5 ValAUC = 0.693006458264 ValErr = 0.27366 TraErr = 0.0496066666667\n"
     ]
    },
    {
     "name": "stdout",
     "output_type": "stream",
     "text": [
      "150000 Train Data depth = 31 feature = 6 ValAUC = 0.690752261154 ValErr = 0.27552 TraErr = 0.0495\n",
      "150000 Train Data depth = 31 feature = 7 ValAUC = 0.692523021478 ValErr = 0.27406 TraErr = 0.0493866666667\n",
      "150000 Train Data depth = 31 feature = 8 ValAUC = 0.691698842579 ValErr = 0.27474 TraErr = 0.0494\n",
      "150000 Train Data depth = 31 feature = 9 ValAUC = 0.692598064908 ValErr = 0.274 TraErr = 0.0492733333333\n",
      "150000 Train Data depth = 31 feature = 10 ValAUC = 0.691726320454 ValErr = 0.27472 TraErr = 0.0493333333333\n",
      "150000 Train Data depth = 31 feature = 11 ValAUC = 0.689828772625 ValErr = 0.27628 TraErr = 0.04922\n",
      "150000 Train Data depth = 31 feature = 12 ValAUC = 0.6908255189 ValErr = 0.27546 TraErr = 0.0491666666667\n",
      "150000 Train Data depth = 31 feature = 13 ValAUC = 0.690679481738 ValErr = 0.27558 TraErr = 0.04908\n",
      "150000 Train Data depth = 31 feature = 14 ValAUC = 0.691407756662 ValErr = 0.27498 TraErr = 0.0491133333333\n",
      "150000 Train Data depth = 32 feature = 1 ValAUC = 0.694725195863 ValErr = 0.27226 TraErr = 0.0510666666667\n",
      "150000 Train Data depth = 32 feature = 2 ValAUC = 0.693465878438 ValErr = 0.27328 TraErr = 0.0497466666667\n",
      "150000 Train Data depth = 32 feature = 3 ValAUC = 0.693707562719 ValErr = 0.27308 TraErr = 0.0494533333333\n",
      "150000 Train Data depth = 32 feature = 4 ValAUC = 0.69122517683 ValErr = 0.27514 TraErr = 0.04934\n",
      "150000 Train Data depth = 32 feature = 5 ValAUC = 0.691219966891 ValErr = 0.27514 TraErr = 0.0491533333333\n",
      "150000 Train Data depth = 32 feature = 6 ValAUC = 0.691241215144 ValErr = 0.27512 TraErr = 0.04922\n",
      "150000 Train Data depth = 32 feature = 7 ValAUC = 0.691507099828 ValErr = 0.2749 TraErr = 0.0490733333333\n",
      "150000 Train Data depth = 32 feature = 8 ValAUC = 0.690366388409 ValErr = 0.27584 TraErr = 0.0491533333333\n",
      "150000 Train Data depth = 32 feature = 9 ValAUC = 0.691312713179 ValErr = 0.27506 TraErr = 0.0490733333333\n",
      "150000 Train Data depth = 32 feature = 10 ValAUC = 0.691553419704 ValErr = 0.27486 TraErr = 0.0490066666667\n",
      "150000 Train Data depth = 32 feature = 11 ValAUC = 0.690754131416 ValErr = 0.27552 TraErr = 0.049\n",
      "150000 Train Data depth = 32 feature = 12 ValAUC = 0.692474158248 ValErr = 0.2741 TraErr = 0.0489666666667\n",
      "150000 Train Data depth = 32 feature = 13 ValAUC = 0.690540388818 ValErr = 0.2757 TraErr = 0.04892\n",
      "150000 Train Data depth = 32 feature = 14 ValAUC = 0.691166318505 ValErr = 0.27518 TraErr = 0.04894\n",
      "150000 Train Data depth = 33 feature = 1 ValAUC = 0.693451658308 ValErr = 0.2733 TraErr = 0.0505333333333\n",
      "150000 Train Data depth = 33 feature = 2 ValAUC = 0.692124514082 ValErr = 0.2744 TraErr = 0.0492933333333\n",
      "150000 Train Data depth = 33 feature = 3 ValAUC = 0.693209596764 ValErr = 0.2735 TraErr = 0.04914\n",
      "150000 Train Data depth = 33 feature = 4 ValAUC = 0.691151968862 ValErr = 0.2752 TraErr = 0.0491333333333\n"
     ]
    },
    {
     "ename": "KeyboardInterrupt",
     "evalue": "",
     "output_type": "error",
     "traceback": [
      "\u001b[0;31m---------------------------------------------------------------------------\u001b[0m",
      "\u001b[0;31mKeyboardInterrupt\u001b[0m                         Traceback (most recent call last)",
      "\u001b[0;32m<ipython-input-7-4ab9be0c347c>\u001b[0m in \u001b[0;36m<module>\u001b[0;34m()\u001b[0m\n\u001b[1;32m      8\u001b[0m         \u001b[0;32mfor\u001b[0m \u001b[0mfeature\u001b[0m \u001b[0;32min\u001b[0m \u001b[0mrange\u001b[0m\u001b[0;34m(\u001b[0m\u001b[0;36m1\u001b[0m\u001b[0;34m,\u001b[0m \u001b[0;36m15\u001b[0m\u001b[0;34m)\u001b[0m\u001b[0;34m:\u001b[0m\u001b[0;34m\u001b[0m\u001b[0m\n\u001b[1;32m      9\u001b[0m             \u001b[0mlearner\u001b[0m \u001b[0;34m=\u001b[0m \u001b[0mRandomForestRegressor\u001b[0m\u001b[0;34m(\u001b[0m\u001b[0mmax_depth\u001b[0m\u001b[0;34m=\u001b[0m \u001b[0mdepth\u001b[0m\u001b[0;34m,\u001b[0m \u001b[0mrandom_state\u001b[0m\u001b[0;34m=\u001b[0m\u001b[0;36m0\u001b[0m\u001b[0;34m,\u001b[0m \u001b[0mn_estimators\u001b[0m \u001b[0;34m=\u001b[0m \u001b[0;36m100\u001b[0m\u001b[0;34m,\u001b[0m \u001b[0mmax_features\u001b[0m \u001b[0;34m=\u001b[0m \u001b[0mfeature\u001b[0m\u001b[0;34m)\u001b[0m\u001b[0;34m\u001b[0m\u001b[0m\n\u001b[0;32m---> 10\u001b[0;31m             \u001b[0mlearner\u001b[0m\u001b[0;34m.\u001b[0m\u001b[0mfit\u001b[0m\u001b[0;34m(\u001b[0m\u001b[0mXtr\u001b[0m\u001b[0;34m,\u001b[0m \u001b[0mYtr\u001b[0m\u001b[0;34m)\u001b[0m\u001b[0;34m\u001b[0m\u001b[0m\n\u001b[0m\u001b[1;32m     11\u001b[0m \u001b[0;34m\u001b[0m\u001b[0m\n\u001b[1;32m     12\u001b[0m             \u001b[0mYtr_hat\u001b[0m \u001b[0;34m=\u001b[0m \u001b[0mconvert\u001b[0m\u001b[0;34m(\u001b[0m\u001b[0mlearner\u001b[0m\u001b[0;34m.\u001b[0m\u001b[0mpredict\u001b[0m\u001b[0;34m(\u001b[0m\u001b[0mXtr\u001b[0m\u001b[0;34m)\u001b[0m\u001b[0;34m)\u001b[0m\u001b[0;34m\u001b[0m\u001b[0m\n",
      "\u001b[0;32m/anaconda2/lib/python2.7/site-packages/sklearn/ensemble/forest.pyc\u001b[0m in \u001b[0;36mfit\u001b[0;34m(self, X, y, sample_weight)\u001b[0m\n\u001b[1;32m    326\u001b[0m                     \u001b[0mt\u001b[0m\u001b[0;34m,\u001b[0m \u001b[0mself\u001b[0m\u001b[0;34m,\u001b[0m \u001b[0mX\u001b[0m\u001b[0;34m,\u001b[0m \u001b[0my\u001b[0m\u001b[0;34m,\u001b[0m \u001b[0msample_weight\u001b[0m\u001b[0;34m,\u001b[0m \u001b[0mi\u001b[0m\u001b[0;34m,\u001b[0m \u001b[0mlen\u001b[0m\u001b[0;34m(\u001b[0m\u001b[0mtrees\u001b[0m\u001b[0;34m)\u001b[0m\u001b[0;34m,\u001b[0m\u001b[0;34m\u001b[0m\u001b[0m\n\u001b[1;32m    327\u001b[0m                     verbose=self.verbose, class_weight=self.class_weight)\n\u001b[0;32m--> 328\u001b[0;31m                 for i, t in enumerate(trees))\n\u001b[0m\u001b[1;32m    329\u001b[0m \u001b[0;34m\u001b[0m\u001b[0m\n\u001b[1;32m    330\u001b[0m             \u001b[0;31m# Collect newly grown trees\u001b[0m\u001b[0;34m\u001b[0m\u001b[0;34m\u001b[0m\u001b[0m\n",
      "\u001b[0;32m/anaconda2/lib/python2.7/site-packages/sklearn/externals/joblib/parallel.pyc\u001b[0m in \u001b[0;36m__call__\u001b[0;34m(self, iterable)\u001b[0m\n\u001b[1;32m    777\u001b[0m             \u001b[0;31m# was dispatched. In particular this covers the edge\u001b[0m\u001b[0;34m\u001b[0m\u001b[0;34m\u001b[0m\u001b[0m\n\u001b[1;32m    778\u001b[0m             \u001b[0;31m# case of Parallel used with an exhausted iterator.\u001b[0m\u001b[0;34m\u001b[0m\u001b[0;34m\u001b[0m\u001b[0m\n\u001b[0;32m--> 779\u001b[0;31m             \u001b[0;32mwhile\u001b[0m \u001b[0mself\u001b[0m\u001b[0;34m.\u001b[0m\u001b[0mdispatch_one_batch\u001b[0m\u001b[0;34m(\u001b[0m\u001b[0miterator\u001b[0m\u001b[0;34m)\u001b[0m\u001b[0;34m:\u001b[0m\u001b[0;34m\u001b[0m\u001b[0m\n\u001b[0m\u001b[1;32m    780\u001b[0m                 \u001b[0mself\u001b[0m\u001b[0;34m.\u001b[0m\u001b[0m_iterating\u001b[0m \u001b[0;34m=\u001b[0m \u001b[0mTrue\u001b[0m\u001b[0;34m\u001b[0m\u001b[0m\n\u001b[1;32m    781\u001b[0m             \u001b[0;32melse\u001b[0m\u001b[0;34m:\u001b[0m\u001b[0;34m\u001b[0m\u001b[0m\n",
      "\u001b[0;32m/anaconda2/lib/python2.7/site-packages/sklearn/externals/joblib/parallel.pyc\u001b[0m in \u001b[0;36mdispatch_one_batch\u001b[0;34m(self, iterator)\u001b[0m\n\u001b[1;32m    623\u001b[0m                 \u001b[0;32mreturn\u001b[0m \u001b[0mFalse\u001b[0m\u001b[0;34m\u001b[0m\u001b[0m\n\u001b[1;32m    624\u001b[0m             \u001b[0;32melse\u001b[0m\u001b[0;34m:\u001b[0m\u001b[0;34m\u001b[0m\u001b[0m\n\u001b[0;32m--> 625\u001b[0;31m                 \u001b[0mself\u001b[0m\u001b[0;34m.\u001b[0m\u001b[0m_dispatch\u001b[0m\u001b[0;34m(\u001b[0m\u001b[0mtasks\u001b[0m\u001b[0;34m)\u001b[0m\u001b[0;34m\u001b[0m\u001b[0m\n\u001b[0m\u001b[1;32m    626\u001b[0m                 \u001b[0;32mreturn\u001b[0m \u001b[0mTrue\u001b[0m\u001b[0;34m\u001b[0m\u001b[0m\n\u001b[1;32m    627\u001b[0m \u001b[0;34m\u001b[0m\u001b[0m\n",
      "\u001b[0;32m/anaconda2/lib/python2.7/site-packages/sklearn/externals/joblib/parallel.pyc\u001b[0m in \u001b[0;36m_dispatch\u001b[0;34m(self, batch)\u001b[0m\n\u001b[1;32m    586\u001b[0m         \u001b[0mdispatch_timestamp\u001b[0m \u001b[0;34m=\u001b[0m \u001b[0mtime\u001b[0m\u001b[0;34m.\u001b[0m\u001b[0mtime\u001b[0m\u001b[0;34m(\u001b[0m\u001b[0;34m)\u001b[0m\u001b[0;34m\u001b[0m\u001b[0m\n\u001b[1;32m    587\u001b[0m         \u001b[0mcb\u001b[0m \u001b[0;34m=\u001b[0m \u001b[0mBatchCompletionCallBack\u001b[0m\u001b[0;34m(\u001b[0m\u001b[0mdispatch_timestamp\u001b[0m\u001b[0;34m,\u001b[0m \u001b[0mlen\u001b[0m\u001b[0;34m(\u001b[0m\u001b[0mbatch\u001b[0m\u001b[0;34m)\u001b[0m\u001b[0;34m,\u001b[0m \u001b[0mself\u001b[0m\u001b[0;34m)\u001b[0m\u001b[0;34m\u001b[0m\u001b[0m\n\u001b[0;32m--> 588\u001b[0;31m         \u001b[0mjob\u001b[0m \u001b[0;34m=\u001b[0m \u001b[0mself\u001b[0m\u001b[0;34m.\u001b[0m\u001b[0m_backend\u001b[0m\u001b[0;34m.\u001b[0m\u001b[0mapply_async\u001b[0m\u001b[0;34m(\u001b[0m\u001b[0mbatch\u001b[0m\u001b[0;34m,\u001b[0m \u001b[0mcallback\u001b[0m\u001b[0;34m=\u001b[0m\u001b[0mcb\u001b[0m\u001b[0;34m)\u001b[0m\u001b[0;34m\u001b[0m\u001b[0m\n\u001b[0m\u001b[1;32m    589\u001b[0m         \u001b[0mself\u001b[0m\u001b[0;34m.\u001b[0m\u001b[0m_jobs\u001b[0m\u001b[0;34m.\u001b[0m\u001b[0mappend\u001b[0m\u001b[0;34m(\u001b[0m\u001b[0mjob\u001b[0m\u001b[0;34m)\u001b[0m\u001b[0;34m\u001b[0m\u001b[0m\n\u001b[1;32m    590\u001b[0m \u001b[0;34m\u001b[0m\u001b[0m\n",
      "\u001b[0;32m/anaconda2/lib/python2.7/site-packages/sklearn/externals/joblib/_parallel_backends.pyc\u001b[0m in \u001b[0;36mapply_async\u001b[0;34m(self, func, callback)\u001b[0m\n\u001b[1;32m    109\u001b[0m     \u001b[0;32mdef\u001b[0m \u001b[0mapply_async\u001b[0m\u001b[0;34m(\u001b[0m\u001b[0mself\u001b[0m\u001b[0;34m,\u001b[0m \u001b[0mfunc\u001b[0m\u001b[0;34m,\u001b[0m \u001b[0mcallback\u001b[0m\u001b[0;34m=\u001b[0m\u001b[0mNone\u001b[0m\u001b[0;34m)\u001b[0m\u001b[0;34m:\u001b[0m\u001b[0;34m\u001b[0m\u001b[0m\n\u001b[1;32m    110\u001b[0m         \u001b[0;34m\"\"\"Schedule a func to be run\"\"\"\u001b[0m\u001b[0;34m\u001b[0m\u001b[0m\n\u001b[0;32m--> 111\u001b[0;31m         \u001b[0mresult\u001b[0m \u001b[0;34m=\u001b[0m \u001b[0mImmediateResult\u001b[0m\u001b[0;34m(\u001b[0m\u001b[0mfunc\u001b[0m\u001b[0;34m)\u001b[0m\u001b[0;34m\u001b[0m\u001b[0m\n\u001b[0m\u001b[1;32m    112\u001b[0m         \u001b[0;32mif\u001b[0m \u001b[0mcallback\u001b[0m\u001b[0;34m:\u001b[0m\u001b[0;34m\u001b[0m\u001b[0m\n\u001b[1;32m    113\u001b[0m             \u001b[0mcallback\u001b[0m\u001b[0;34m(\u001b[0m\u001b[0mresult\u001b[0m\u001b[0;34m)\u001b[0m\u001b[0;34m\u001b[0m\u001b[0m\n",
      "\u001b[0;32m/anaconda2/lib/python2.7/site-packages/sklearn/externals/joblib/_parallel_backends.pyc\u001b[0m in \u001b[0;36m__init__\u001b[0;34m(self, batch)\u001b[0m\n\u001b[1;32m    330\u001b[0m         \u001b[0;31m# Don't delay the application, to avoid keeping the input\u001b[0m\u001b[0;34m\u001b[0m\u001b[0;34m\u001b[0m\u001b[0m\n\u001b[1;32m    331\u001b[0m         \u001b[0;31m# arguments in memory\u001b[0m\u001b[0;34m\u001b[0m\u001b[0;34m\u001b[0m\u001b[0m\n\u001b[0;32m--> 332\u001b[0;31m         \u001b[0mself\u001b[0m\u001b[0;34m.\u001b[0m\u001b[0mresults\u001b[0m \u001b[0;34m=\u001b[0m \u001b[0mbatch\u001b[0m\u001b[0;34m(\u001b[0m\u001b[0;34m)\u001b[0m\u001b[0;34m\u001b[0m\u001b[0m\n\u001b[0m\u001b[1;32m    333\u001b[0m \u001b[0;34m\u001b[0m\u001b[0m\n\u001b[1;32m    334\u001b[0m     \u001b[0;32mdef\u001b[0m \u001b[0mget\u001b[0m\u001b[0;34m(\u001b[0m\u001b[0mself\u001b[0m\u001b[0;34m)\u001b[0m\u001b[0;34m:\u001b[0m\u001b[0;34m\u001b[0m\u001b[0m\n",
      "\u001b[0;32m/anaconda2/lib/python2.7/site-packages/sklearn/externals/joblib/parallel.pyc\u001b[0m in \u001b[0;36m__call__\u001b[0;34m(self)\u001b[0m\n\u001b[1;32m    129\u001b[0m \u001b[0;34m\u001b[0m\u001b[0m\n\u001b[1;32m    130\u001b[0m     \u001b[0;32mdef\u001b[0m \u001b[0m__call__\u001b[0m\u001b[0;34m(\u001b[0m\u001b[0mself\u001b[0m\u001b[0;34m)\u001b[0m\u001b[0;34m:\u001b[0m\u001b[0;34m\u001b[0m\u001b[0m\n\u001b[0;32m--> 131\u001b[0;31m         \u001b[0;32mreturn\u001b[0m \u001b[0;34m[\u001b[0m\u001b[0mfunc\u001b[0m\u001b[0;34m(\u001b[0m\u001b[0;34m*\u001b[0m\u001b[0margs\u001b[0m\u001b[0;34m,\u001b[0m \u001b[0;34m**\u001b[0m\u001b[0mkwargs\u001b[0m\u001b[0;34m)\u001b[0m \u001b[0;32mfor\u001b[0m \u001b[0mfunc\u001b[0m\u001b[0;34m,\u001b[0m \u001b[0margs\u001b[0m\u001b[0;34m,\u001b[0m \u001b[0mkwargs\u001b[0m \u001b[0;32min\u001b[0m \u001b[0mself\u001b[0m\u001b[0;34m.\u001b[0m\u001b[0mitems\u001b[0m\u001b[0;34m]\u001b[0m\u001b[0;34m\u001b[0m\u001b[0m\n\u001b[0m\u001b[1;32m    132\u001b[0m \u001b[0;34m\u001b[0m\u001b[0m\n\u001b[1;32m    133\u001b[0m     \u001b[0;32mdef\u001b[0m \u001b[0m__len__\u001b[0m\u001b[0;34m(\u001b[0m\u001b[0mself\u001b[0m\u001b[0;34m)\u001b[0m\u001b[0;34m:\u001b[0m\u001b[0;34m\u001b[0m\u001b[0m\n",
      "\u001b[0;32m/anaconda2/lib/python2.7/site-packages/sklearn/ensemble/forest.pyc\u001b[0m in \u001b[0;36m_parallel_build_trees\u001b[0;34m(tree, forest, X, y, sample_weight, tree_idx, n_trees, verbose, class_weight)\u001b[0m\n\u001b[1;32m    119\u001b[0m             \u001b[0mcurr_sample_weight\u001b[0m \u001b[0;34m*=\u001b[0m \u001b[0mcompute_sample_weight\u001b[0m\u001b[0;34m(\u001b[0m\u001b[0;34m'balanced'\u001b[0m\u001b[0;34m,\u001b[0m \u001b[0my\u001b[0m\u001b[0;34m,\u001b[0m \u001b[0mindices\u001b[0m\u001b[0;34m)\u001b[0m\u001b[0;34m\u001b[0m\u001b[0m\n\u001b[1;32m    120\u001b[0m \u001b[0;34m\u001b[0m\u001b[0m\n\u001b[0;32m--> 121\u001b[0;31m         \u001b[0mtree\u001b[0m\u001b[0;34m.\u001b[0m\u001b[0mfit\u001b[0m\u001b[0;34m(\u001b[0m\u001b[0mX\u001b[0m\u001b[0;34m,\u001b[0m \u001b[0my\u001b[0m\u001b[0;34m,\u001b[0m \u001b[0msample_weight\u001b[0m\u001b[0;34m=\u001b[0m\u001b[0mcurr_sample_weight\u001b[0m\u001b[0;34m,\u001b[0m \u001b[0mcheck_input\u001b[0m\u001b[0;34m=\u001b[0m\u001b[0mFalse\u001b[0m\u001b[0;34m)\u001b[0m\u001b[0;34m\u001b[0m\u001b[0m\n\u001b[0m\u001b[1;32m    122\u001b[0m     \u001b[0;32melse\u001b[0m\u001b[0;34m:\u001b[0m\u001b[0;34m\u001b[0m\u001b[0m\n\u001b[1;32m    123\u001b[0m         \u001b[0mtree\u001b[0m\u001b[0;34m.\u001b[0m\u001b[0mfit\u001b[0m\u001b[0;34m(\u001b[0m\u001b[0mX\u001b[0m\u001b[0;34m,\u001b[0m \u001b[0my\u001b[0m\u001b[0;34m,\u001b[0m \u001b[0msample_weight\u001b[0m\u001b[0;34m=\u001b[0m\u001b[0msample_weight\u001b[0m\u001b[0;34m,\u001b[0m \u001b[0mcheck_input\u001b[0m\u001b[0;34m=\u001b[0m\u001b[0mFalse\u001b[0m\u001b[0;34m)\u001b[0m\u001b[0;34m\u001b[0m\u001b[0m\n",
      "\u001b[0;32m/anaconda2/lib/python2.7/site-packages/sklearn/tree/tree.pyc\u001b[0m in \u001b[0;36mfit\u001b[0;34m(self, X, y, sample_weight, check_input, X_idx_sorted)\u001b[0m\n\u001b[1;32m   1122\u001b[0m             \u001b[0msample_weight\u001b[0m\u001b[0;34m=\u001b[0m\u001b[0msample_weight\u001b[0m\u001b[0;34m,\u001b[0m\u001b[0;34m\u001b[0m\u001b[0m\n\u001b[1;32m   1123\u001b[0m             \u001b[0mcheck_input\u001b[0m\u001b[0;34m=\u001b[0m\u001b[0mcheck_input\u001b[0m\u001b[0;34m,\u001b[0m\u001b[0;34m\u001b[0m\u001b[0m\n\u001b[0;32m-> 1124\u001b[0;31m             X_idx_sorted=X_idx_sorted)\n\u001b[0m\u001b[1;32m   1125\u001b[0m         \u001b[0;32mreturn\u001b[0m \u001b[0mself\u001b[0m\u001b[0;34m\u001b[0m\u001b[0m\n\u001b[1;32m   1126\u001b[0m \u001b[0;34m\u001b[0m\u001b[0m\n",
      "\u001b[0;32m/anaconda2/lib/python2.7/site-packages/sklearn/tree/tree.pyc\u001b[0m in \u001b[0;36mfit\u001b[0;34m(self, X, y, sample_weight, check_input, X_idx_sorted)\u001b[0m\n\u001b[1;32m    360\u001b[0m                                            min_impurity_split)\n\u001b[1;32m    361\u001b[0m \u001b[0;34m\u001b[0m\u001b[0m\n\u001b[0;32m--> 362\u001b[0;31m         \u001b[0mbuilder\u001b[0m\u001b[0;34m.\u001b[0m\u001b[0mbuild\u001b[0m\u001b[0;34m(\u001b[0m\u001b[0mself\u001b[0m\u001b[0;34m.\u001b[0m\u001b[0mtree_\u001b[0m\u001b[0;34m,\u001b[0m \u001b[0mX\u001b[0m\u001b[0;34m,\u001b[0m \u001b[0my\u001b[0m\u001b[0;34m,\u001b[0m \u001b[0msample_weight\u001b[0m\u001b[0;34m,\u001b[0m \u001b[0mX_idx_sorted\u001b[0m\u001b[0;34m)\u001b[0m\u001b[0;34m\u001b[0m\u001b[0m\n\u001b[0m\u001b[1;32m    363\u001b[0m \u001b[0;34m\u001b[0m\u001b[0m\n\u001b[1;32m    364\u001b[0m         \u001b[0;32mif\u001b[0m \u001b[0mself\u001b[0m\u001b[0;34m.\u001b[0m\u001b[0mn_outputs_\u001b[0m \u001b[0;34m==\u001b[0m \u001b[0;36m1\u001b[0m\u001b[0;34m:\u001b[0m\u001b[0;34m\u001b[0m\u001b[0m\n",
      "\u001b[0;31mKeyboardInterrupt\u001b[0m: "
     ]
    }
   ],
   "source": [
    "for data_split in range(5):\n",
    "    Xtr = X[:150000 + data_split*10000, ]\n",
    "    Ytr = Y[:150000 + data_split*10000]\n",
    "    Xva = X[150000 + data_split*10000:, ]\n",
    "    Yva = Y[150000 + data_split*10000:]\n",
    "    \n",
    "    for depth in range(20, 45):\n",
    "        for feature in range(1, 15):\n",
    "            learner = RandomForestRegressor(max_depth= depth, random_state=0, n_estimators = 100, max_features = feature)\n",
    "            learner.fit(Xtr, Ytr)\n",
    "            \n",
    "            Ytr_hat = convert(learner.predict(Xtr))       \n",
    "            Yva_hat = convert(learner.predict(Xva))         \n",
    "            validation_auc = roc_auc_score(Yva_hat, Yva)\n",
    "\n",
    "            print \"depth =\", depth, \"feature =\", feature, \"ValAUC =\", validation_auc, \"ValErr =\", calcError(Yva_hat, Yva), \"TraErr =\", calcError(Ytr_hat, Ytr)\n",
    "print \"Done\""
   ]
  },
  {
   "cell_type": "code",
   "execution_count": null,
   "metadata": {
    "collapsed": true
   },
   "outputs": [],
   "source": []
  },
  {
   "cell_type": "code",
   "execution_count": null,
   "metadata": {
    "collapsed": true
   },
   "outputs": [],
   "source": []
  },
  {
   "cell_type": "code",
   "execution_count": null,
   "metadata": {
    "collapsed": true
   },
   "outputs": [],
   "source": []
  },
  {
   "cell_type": "code",
   "execution_count": null,
   "metadata": {
    "collapsed": true
   },
   "outputs": [],
   "source": []
  },
  {
   "cell_type": "code",
   "execution_count": null,
   "metadata": {
    "collapsed": true
   },
   "outputs": [],
   "source": []
  },
  {
   "cell_type": "code",
   "execution_count": null,
   "metadata": {
    "collapsed": true
   },
   "outputs": [],
   "source": []
  },
  {
   "cell_type": "code",
   "execution_count": null,
   "metadata": {
    "collapsed": true
   },
   "outputs": [],
   "source": []
  },
  {
   "cell_type": "code",
   "execution_count": 7,
   "metadata": {
    "collapsed": true
   },
   "outputs": [],
   "source": [
    "Yte_hat = regr.predict(Xte)"
   ]
  },
  {
   "cell_type": "code",
   "execution_count": 9,
   "metadata": {},
   "outputs": [],
   "source": [
    "Yte_hat = regr.predict(Xte)\n",
    "Yte = np.vstack((np.arange(Xte.shape[0]), Yte_hat)).T\n",
    "np.savetxt('Y_submit_random_forest.txt',Yte,'%d, %.2f',header='ID,Prob1',comments='',delimiter=',')"
   ]
  },
  {
   "cell_type": "code",
   "execution_count": 11,
   "metadata": {
    "collapsed": true
   },
   "outputs": [],
   "source": [
    "Yva_hat = convert(regr.predict(Xva))"
   ]
  },
  {
   "cell_type": "code",
   "execution_count": 12,
   "metadata": {},
   "outputs": [
    {
     "name": "stdout",
     "output_type": "stream",
     "text": [
      "Validation AUC 0.697342651327\n"
     ]
    }
   ],
   "source": [
    "validation_auc = roc_auc_score(Yva_hat, Yva)\n",
    "print \"Validation AUC\", validation_auc"
   ]
  },
  {
   "cell_type": "code",
   "execution_count": 13,
   "metadata": {},
   "outputs": [
    {
     "name": "stdout",
     "output_type": "stream",
     "text": [
      "Validation Error 0.2708\n"
     ]
    }
   ],
   "source": [
    "print \"Validation Error\", calcError(Yva_hat, Yva)"
   ]
  },
  {
   "cell_type": "code",
   "execution_count": 15,
   "metadata": {},
   "outputs": [],
   "source": [
    "Ytr_hat = convert(regr.predict(Xtr))"
   ]
  },
  {
   "cell_type": "code",
   "execution_count": 16,
   "metadata": {},
   "outputs": [
    {
     "name": "stdout",
     "output_type": "stream",
     "text": [
      "Train Error 0.0574631578947\n"
     ]
    }
   ],
   "source": [
    "print \"Train Error\", calcError(Ytr_hat, Ytr)"
   ]
  },
  {
   "cell_type": "code",
   "execution_count": null,
   "metadata": {
    "collapsed": true
   },
   "outputs": [],
   "source": []
  }
 ],
 "metadata": {
  "kernelspec": {
   "display_name": "Python 2",
   "language": "python",
   "name": "python2"
  },
  "language_info": {
   "codemirror_mode": {
    "name": "ipython",
    "version": 2
   },
   "file_extension": ".py",
   "mimetype": "text/x-python",
   "name": "python",
   "nbconvert_exporter": "python",
   "pygments_lexer": "ipython2",
   "version": "2.7.14"
  }
 },
 "nbformat": 4,
 "nbformat_minor": 2
}
