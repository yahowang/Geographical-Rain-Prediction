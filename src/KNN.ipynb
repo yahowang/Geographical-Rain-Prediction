{
 "cells": [
  {
   "cell_type": "code",
   "execution_count": 60,
   "metadata": {},
   "outputs": [],
   "source": [
    "from sklearn.neighbors import KNeighborsRegressor\n",
    "from sklearn.neighbors import KNeighborsClassifier\n",
    "from sklearn.metrics import mean_squared_error\n",
    "from sklearn.cluster import KMeans\n",
    "from sklearn.metrics import roc_auc_score\n",
    "from __future__ import division\n",
    "import numpy as np\n",
    "import matplotlib.pyplot as plt\n",
    "from collections import defaultdict\n",
    "%matplotlib inline\n",
    "\n",
    "np.random.seed(0)\n",
    "import mltools as ml\n",
    "X = np.genfromtxt(\"data/X_train.txt\", delimiter = None)\n",
    "Y = np.genfromtxt(\"data/Y_train.txt\", delimiter = None)\n",
    "Xte = np.genfromtxt(\"data/X_test.txt\", delimiter = None)\n",
    "np.random.seed(0)\n",
    "\n",
    "\n",
    "\n",
    "X, Y = ml.shuffleData(X, Y)\n",
    "Xtr = X[:190000, :]\n",
    "Ytr = Y[:190000]\n",
    "Xva = X[10000: , :]\n",
    "Yva = Y[10000:]"
   ]
  },
  {
   "cell_type": "code",
   "execution_count": 61,
   "metadata": {
    "collapsed": true
   },
   "outputs": [],
   "source": [
    "YhatB = []\n",
    "YhatBtr = []"
   ]
  },
  {
   "cell_type": "code",
   "execution_count": 62,
   "metadata": {
    "collapsed": true
   },
   "outputs": [],
   "source": [
    "def calcError(Yvalidation_hat, Yvalidation):\n",
    "    err_count = 0.\n",
    "    for i in range(len(Yvalidation_hat)):\n",
    "        if Yvalidation_hat[i] != Yvalidation[i]:\n",
    "            err_count+=1\n",
    "    print \"Error rate:\", err_count / len(Yvalidation_hat)"
   ]
  },
  {
   "cell_type": "code",
   "execution_count": 63,
   "metadata": {},
   "outputs": [],
   "source": [
    "# kmeans = KMeans(n_clusters=50, random_state=0).fit(Xtr)\n",
    "# kmeans.labels_\n",
    "# clusterDict = defaultdict(list)\n",
    "# result = []\n",
    "# i = 0\n",
    "# print len(kmeans.labels_)\n",
    "# for i in range(len(kmeans.labels_)):\n",
    "#     if kmeans.labels_[i] not in clusterDict:\n",
    "#         clusterDict[kmeans.labels_[i]] = [(Xtr[i], Ytr[i])]\n",
    "#     else:\n",
    "#         clusterDict[kmeans.labels_[i]].append((Xtr[i], Ytr[i]))\n",
    "\n",
    "# for item in clusterDict.items():\n",
    "#     xtr = []\n",
    "#     ytr = []\n",
    "\n",
    "#     for tr in range(len(item[1])):\n",
    "#         xtr.append(item[1][tr][0])\n",
    "#         ytr.append(item[1][tr][1])\n",
    "#     xtr = np.array(xtr)\n",
    "#     ytr = np.array(ytr)\n",
    "#     knn = KNeighborsRegressor(3)\n",
    "#     knn.fit(xtr, ytr)\n",
    "#     Yhat = knn.predict(Xva)\n",
    "#     print Yhat"
   ]
  },
  {
   "cell_type": "code",
   "execution_count": 64,
   "metadata": {
    "collapsed": true
   },
   "outputs": [],
   "source": [
    "# clusterDict = defaultdict(list)\n",
    "# xCopy = np.copy(Xtr)\n",
    "# auctr = []\n",
    "# aucva = []\n",
    "# learners = []\n",
    "\n",
    "# Z, d = ml.cluster.agglomerative(xCopy, K=50, method='max')\n",
    "# for i in range(99):\n",
    "#     if Z[i] not in clusterDict:\n",
    "#         clusterDict[Z[i]] = [(xCopy[i], Y[i])]\n",
    "#     else:\n",
    "#         clusterDict[Z[i]].append((xCopy[i], Y[i]))\n",
    "\n",
    "# for item in clusterDict.items():\n",
    "#     xtr = []\n",
    "#     ytr = []\n",
    "\n",
    "#     for tr in range(len(item[1])):\n",
    "#         xtr.append(item[1][tr][0])\n",
    "#         ytr.append(item[1][tr][1])\n",
    "#     xtr = np.array(xtr)\n",
    "#     ytr = np.array(ytr)\n",
    "# print xtr\n",
    "# print ytr\n"
   ]
  },
  {
   "cell_type": "code",
   "execution_count": 65,
   "metadata": {},
   "outputs": [
    {
     "name": "stdout",
     "output_type": "stream",
     "text": [
      "Error rate: 0.225021052632\n",
      "here\n",
      "Error rate: 0.228226315789\n"
     ]
    }
   ],
   "source": [
    "# for i in range(2, 50):\n",
    "\n",
    "\n",
    "knn = KNeighborsRegressor(n_neighbors=9, weights='uniform')\n",
    "knn.fit(Xtr, Ytr)\n",
    "Yhat = knn.predict(Xva)\n",
    "Yhattr = knn.predict(Xtr)\n",
    "for i in Yhattr:\n",
    "    if i < 0.5:\n",
    "        YhatBtr.append(0)\n",
    "    else:\n",
    "        YhatBtr.append(1)\n",
    "for i in Yhat:\n",
    "    if i < 0.5:\n",
    "        YhatB.append(0)\n",
    "    else:\n",
    "        YhatB.append(1)\n",
    "calcError(YhatBtr, Ytr)\n",
    "print \"here\"\n",
    "calcError(YhatB, Yva)\n",
    "#     Yhattr = knn.predict(Xtr)\n",
    "#     print \"training mse\", mean_squared_error(Ytr, Yhattr)\n",
    "#     print \"validation mse\", mean_squared_error(Yva, Yhat)\n",
    "#     print i,\" : \", roc_auc_score(Yva, Yhat)"
   ]
  },
  {
   "cell_type": "code",
   "execution_count": 102,
   "metadata": {
    "collapsed": true
   },
   "outputs": [],
   "source": [
    "# Yte = np.vstack((np.arange(Xte.shape[0]), Yhat)).T\n",
    "\n",
    "# np.savetxt(\"Y_sumbit_12k.txt\", Yte, \"%d, %.2f\", header = \"ID,Prob1\", comments = \"\", delimiter = \",\")"
   ]
  },
  {
   "cell_type": "code",
   "execution_count": null,
   "metadata": {
    "collapsed": true
   },
   "outputs": [],
   "source": []
  }
 ],
 "metadata": {
  "kernelspec": {
   "display_name": "Python 2",
   "language": "python",
   "name": "python2"
  },
  "language_info": {
   "codemirror_mode": {
    "name": "ipython",
    "version": 2
   },
   "file_extension": ".py",
   "mimetype": "text/x-python",
   "name": "python",
   "nbconvert_exporter": "python",
   "pygments_lexer": "ipython2",
   "version": "2.7.14"
  }
 },
 "nbformat": 4,
 "nbformat_minor": 2
}
