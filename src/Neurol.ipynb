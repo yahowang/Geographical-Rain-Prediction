{
 "cells": [
  {
   "cell_type": "code",
   "execution_count": 17,
   "metadata": {
    "collapsed": true
   },
   "outputs": [],
   "source": [
    "from sklearn.neural_network import MLPClassifier\n",
    "from sklearn.metrics import roc_auc_score\n",
    "import numpy as np\n",
    "import matplotlib.pyplot as plt\n",
    "from collections import defaultdict\n",
    "%matplotlib inline\n",
    "\n",
    "np.random.seed(0)\n",
    "import mltools as ml\n",
    "X = np.genfromtxt(\"data/X_train.txt\", delimiter = None)\n",
    "Y = np.genfromtxt(\"data/Y_train.txt\", delimiter = None)\n",
    "Xte = np.genfromtxt(\"data/X_test.txt\", delimiter = None)\n",
    "np.random.seed(0)\n",
    "\n",
    "\n",
    "\n",
    "X, Y = ml.shuffleData(X, Y)\n",
    "\n",
    "train_num = 190000\n",
    "\n",
    "Xtr = X[:train_num, :]\n",
    "Ytr = Y[:train_num]\n",
    "Xva = X[train_num: , :]\n",
    "Yva = Y[train_num:]"
   ]
  },
  {
   "cell_type": "code",
   "execution_count": null,
   "metadata": {
    "collapsed": true
   },
   "outputs": [],
   "source": [
    "def calcError(Yvalidation_hat, Yvalidation):\n",
    "    err_count = 0.\n",
    "    for i in range(len(Yvalidation_hat)):\n",
    "        if Yvalidation_hat[i] != Yvalidation[i]:\n",
    "            err_count+=1\n",
    "    return err_count / len(Yvalidation_hat)\n",
    "\n",
    "def convert(regress_list):\n",
    "    result = []\n",
    "    for i in regress_list:\n",
    "        if i < 0.5:\n",
    "            result.append(0)\n",
    "        else:\n",
    "            result.append(1)\n",
    "    return result"
   ]
  },
  {
   "cell_type": "code",
   "execution_count": null,
   "metadata": {},
   "outputs": [],
   "source": [
    "clf = MLPClassifier(solver='sgd',\n",
    "                    alpha=1e-5,\n",
    "                    hidden_layer_sizes=(1000, 700))\n",
    "clf.fit(Xtr, Ytr)\n",
    "# Yhatte = clf.predict(Xte)\n",
    "Yhatva = clf.predict(Xva)\n",
    "Yhattr = clf.predict(Xtr)\n",
    "\n",
    "eYhatva = convert(Yhatva)\n",
    "eYhattr = convert(Yhattr)\n",
    "\n",
    "print \"tr: \", roc_auc_score(Ytr, Yhattr)\n",
    "print \"va: \", roc_auc_score(Yva, Yhatva)"
   ]
  },
  {
   "cell_type": "code",
   "execution_count": 7,
   "metadata": {},
   "outputs": [
    {
     "name": "stdout",
     "output_type": "stream",
     "text": [
      "0.342973684211\n"
     ]
    }
   ],
   "source": [
    "print calcError(eYhattr, Ytr)"
   ]
  },
  {
   "cell_type": "code",
   "execution_count": null,
   "metadata": {
    "collapsed": true
   },
   "outputs": [],
   "source": []
  }
 ],
 "metadata": {
  "kernelspec": {
   "display_name": "Python 2",
   "language": "python",
   "name": "python2"
  },
  "language_info": {
   "codemirror_mode": {
    "name": "ipython",
    "version": 2
   },
   "file_extension": ".py",
   "mimetype": "text/x-python",
   "name": "python",
   "nbconvert_exporter": "python",
   "pygments_lexer": "ipython2",
   "version": "2.7.14"
  }
 },
 "nbformat": 4,
 "nbformat_minor": 2
}
